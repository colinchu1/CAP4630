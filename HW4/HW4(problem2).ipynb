{
  "nbformat": 4,
  "nbformat_minor": 0,
  "metadata": {
    "colab": {
      "name": "HW4(problem2).ipynb",
      "provenance": [],
      "authorship_tag": "ABX9TyOP+GuxBotDsI7EK2/4Ss5S",
      "include_colab_link": true
    },
    "kernelspec": {
      "name": "python3",
      "display_name": "Python 3"
    }
  },
  "cells": [
    {
      "cell_type": "markdown",
      "metadata": {
        "id": "view-in-github",
        "colab_type": "text"
      },
      "source": [
        "<a href=\"https://colab.research.google.com/github/colinchu1/CAP4630/blob/master/HW4/HW4(problem2).ipynb\" target=\"_parent\"><img src=\"https://colab.research.google.com/assets/colab-badge.svg\" alt=\"Open In Colab\"/></a>"
      ]
    },
    {
      "cell_type": "markdown",
      "metadata": {
        "id": "5tP_rHqGfYhV",
        "colab_type": "text"
      },
      "source": [
        "Using only numpy, implement the function maxpooling2d. It takes as input input_mat and s and outputs output_mat. The variables input_mat and output_mat are square matrices and s is an integer. It should compute the maxpooling operation on input_mat using window of shape s times s.\n",
        "\n"
      ]
    },
    {
      "cell_type": "markdown",
      "metadata": {
        "id": "_SUJAkdHfa-b",
        "colab_type": "text"
      },
      "source": [
        "#import numpy"
      ]
    },
    {
      "cell_type": "code",
      "metadata": {
        "id": "o0w3-hoO9BSt",
        "colab_type": "code",
        "colab": {}
      },
      "source": [
        "import numpy as np"
      ],
      "execution_count": 0,
      "outputs": []
    },
    {
      "cell_type": "code",
      "metadata": {
        "id": "RQJ4wMDl9d56",
        "colab_type": "code",
        "colab": {}
      },
      "source": [
        "def maxpooling2d(image, s):\n",
        "    h_prev, w_prev = image.shape\n",
        "    f = s\n",
        "    h_prev += h_prev % s\n",
        "    w_prev += w_prev % s\n",
        "    downsampled = []\n",
        "    #return empty matrix if operation can not perform\n",
        "    if(image.shape[0]< s):\n",
        "      print(\"error, operation can not be performed\")\n",
        "      return downsampled\n",
        "    # calculate output dimensions after the maxpooling operation.\n",
        "    h = int((h_prev - f)/s)+1\n",
        "    w = int((w_prev - f)/s)+1\n",
        "    # create a matrix to hold the values of the maxpooling operation.\n",
        "    downsampled = np.zeros((h, w)) \n",
        "    curr_y = out_y = 0\n",
        "    # slide the max pooling window vertically across the image\n",
        "    while curr_y + f <= h_prev:\n",
        "        curr_x = out_x = 0\n",
        "        # slide the max pooling window horizontally across the image\n",
        "        while curr_x + f <= w_prev:\n",
        "            # choose the maximum value within the window at each step and store it to the output matrix\n",
        "            downsampled[out_y, out_x] = np.max(image[curr_y:curr_y+f, curr_x:curr_x+f])\n",
        "            curr_x += s\n",
        "            out_x += 1\n",
        "        curr_y += s\n",
        "        out_y += 1\n",
        "    return downsampled"
      ],
      "execution_count": 0,
      "outputs": []
    },
    {
      "cell_type": "markdown",
      "metadata": {
        "id": "4FRWRHXFfkBs",
        "colab_type": "text"
      },
      "source": [
        "#provided testcases"
      ]
    },
    {
      "cell_type": "code",
      "metadata": {
        "id": "qMwllHz283E9",
        "colab_type": "code",
        "outputId": "a99c16e0-3253-445e-b473-10289dedc084",
        "colab": {
          "base_uri": "https://localhost:8080/",
          "height": 134
        }
      },
      "source": [
        "\n",
        "input_mat = []\n",
        "expected_mat = []\n",
        "s = []\n",
        "input_mat.append(np.array([[1, 2, 1, 2],\n",
        "                      [2, 4, 2, 1],\n",
        "                      [1, 2, 4, 2],\n",
        "                      [2, 1, 2, 1]]))\n",
        "s.append(2)\n",
        "\n",
        "expected_mat.append(np.array([[4, 2],\n",
        "                                [2, 4]]))\n",
        "\n",
        "input_mat.append(np.array([[1, 2, 1, 2, 4, 5],\n",
        "                      [2, 4, 2, 1, 0, 3],\n",
        "                      [1, 2, 4, 2, 4, 5],\n",
        "                      [2, 1, 2, 1, 2, 1],\n",
        "                      [1, 1, 2, 3, 1, 2]]))\n",
        "s.append(2)\n",
        "\n",
        "expected_mat.append([[4, 2, 5],\n",
        " [2, 4, 5],\n",
        " [1, 3, 2]])\n",
        "\n",
        "\n",
        "for i in range(len(input_mat)):\n",
        "  # uncomment top line and comment second line to test code\n",
        "  output_mat = maxpooling2d(input_mat[i], s[i])\n",
        "\n",
        "  print(output_mat)\n",
        "\n",
        "  if np.array_equal(output_mat, expected_mat[i]):\n",
        "    print(\"Correct output!\")\n",
        "  else:\n",
        "    print(\"Incorrect output!\")"
      ],
      "execution_count": 3,
      "outputs": [
        {
          "output_type": "stream",
          "text": [
            "[[4. 2.]\n",
            " [2. 4.]]\n",
            "Correct output!\n",
            "[[4. 2. 5.]\n",
            " [2. 4. 5.]\n",
            " [1. 3. 2.]]\n",
            "Correct output!\n"
          ],
          "name": "stdout"
        }
      ]
    }
  ]
}