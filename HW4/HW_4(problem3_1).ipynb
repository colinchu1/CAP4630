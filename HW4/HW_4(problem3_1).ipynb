{
  "nbformat": 4,
  "nbformat_minor": 0,
  "metadata": {
    "colab": {
      "name": "HW_4(problem3-1).ipynb",
      "provenance": [],
      "collapsed_sections": [],
      "authorship_tag": "ABX9TyMsWDx98h+TKreb95At+EeF",
      "include_colab_link": true
    },
    "kernelspec": {
      "name": "python3",
      "display_name": "Python 3"
    },
    "accelerator": "GPU"
  },
  "cells": [
    {
      "cell_type": "markdown",
      "metadata": {
        "id": "view-in-github",
        "colab_type": "text"
      },
      "source": [
        "<a href=\"https://colab.research.google.com/github/colinchu1/CAP4630/blob/master/HW4/HW_4(problem3_1).ipynb\" target=\"_parent\"><img src=\"https://colab.research.google.com/assets/colab-badge.svg\" alt=\"Open In Colab\"/></a>"
      ]
    },
    {
      "cell_type": "markdown",
      "metadata": {
        "id": "BY2t0wYLNE5w",
        "colab_type": "text"
      },
      "source": [
        "You will adapt the notebook using VGG16 conv base for feature extraction, using data augmentation, not using dropout, fine-tuning. You will have to replace the VGG16 conv base by new conv bases. You should not use VGG19.\n",
        "\n",
        "You should create two notebooks. Both should use the same conv base, unfreeze the same number of layers of the conv_base, but use different classifiers."
      ]
    },
    {
      "cell_type": "markdown",
      "metadata": {
        "id": "7UkGg-DZNF_O",
        "colab_type": "text"
      },
      "source": [
        "#Download Data\n",
        "Download the example data, a zip. of 2,000 JPG pictures of cats and dogs and extract it locally in /tmp."
      ]
    },
    {
      "cell_type": "code",
      "metadata": {
        "id": "cB9qcitXojyh",
        "colab_type": "code",
        "outputId": "39737364-019d-4c30-f53f-3d22c9b0d563",
        "colab": {
          "base_uri": "https://localhost:8080/",
          "height": 202
        }
      },
      "source": [
        "!wget --no-check-certificate \\\n",
        "    https://storage.googleapis.com/mledu-datasets/cats_and_dogs_filtered.zip \\\n",
        "    -O /tmp/cats_and_dogs_filtered.zip"
      ],
      "execution_count": 21,
      "outputs": [
        {
          "output_type": "stream",
          "text": [
            "--2020-04-19 20:41:56--  https://storage.googleapis.com/mledu-datasets/cats_and_dogs_filtered.zip\n",
            "Resolving storage.googleapis.com (storage.googleapis.com)... 108.177.126.128, 2a00:1450:4013:c03::80\n",
            "Connecting to storage.googleapis.com (storage.googleapis.com)|108.177.126.128|:443... connected.\n",
            "HTTP request sent, awaiting response... 200 OK\n",
            "Length: 68606236 (65M) [application/zip]\n",
            "Saving to: ‘/tmp/cats_and_dogs_filtered.zip’\n",
            "\n",
            "/tmp/cats_and_dogs_ 100%[===================>]  65.43M  79.5MB/s    in 0.8s    \n",
            "\n",
            "2020-04-19 20:41:57 (79.5 MB/s) - ‘/tmp/cats_and_dogs_filtered.zip’ saved [68606236/68606236]\n",
            "\n"
          ],
          "name": "stdout"
        }
      ]
    },
    {
      "cell_type": "code",
      "metadata": {
        "id": "I0mB-Tvxourz",
        "colab_type": "code",
        "colab": {}
      },
      "source": [
        "import os\n",
        "import zipfile\n",
        "\n",
        "local_zip = '/tmp/cats_and_dogs_filtered.zip'\n",
        "zip_ref = zipfile.ZipFile(local_zip, 'r')\n",
        "zip_ref.extractall('/tmp')\n",
        "zip_ref.close()"
      ],
      "execution_count": 0,
      "outputs": []
    },
    {
      "cell_type": "markdown",
      "metadata": {
        "id": "qlu5dHu4NSFd",
        "colab_type": "text"
      },
      "source": [
        "Note that the data provided by Google does not have a test set."
      ]
    },
    {
      "cell_type": "code",
      "metadata": {
        "id": "7JeBynOMoyKp",
        "colab_type": "code",
        "colab": {}
      },
      "source": [
        "base_dir = '/tmp/cats_and_dogs_filtered'\n",
        "train_dir = os.path.join(base_dir, 'train')\n",
        "validation_dir = os.path.join(base_dir, 'validation')\n",
        "\n",
        "# Directory with our training cat pictures\n",
        "train_cats_dir = os.path.join(train_dir, 'cats')\n",
        "\n",
        "# Directory with our training dog pictures\n",
        "train_dogs_dir = os.path.join(train_dir, 'dogs')\n",
        "\n",
        "# Directory with our validation cat pictures\n",
        "validation_cats_dir = os.path.join(validation_dir, 'cats')\n",
        "\n",
        "# Directory with our validation dog pictures\n",
        "validation_dogs_dir = os.path.join(validation_dir, 'dogs')"
      ],
      "execution_count": 0,
      "outputs": []
    },
    {
      "cell_type": "markdown",
      "metadata": {
        "id": "sbhmNMjcNZE2",
        "colab_type": "text"
      },
      "source": [
        "#Build network with MobileNetV2 convolution base and custom densely connected layers"
      ]
    },
    {
      "cell_type": "markdown",
      "metadata": {
        "id": "BhcDcwD3NdDt",
        "colab_type": "text"
      },
      "source": [
        "##Load the convolutional base"
      ]
    },
    {
      "cell_type": "code",
      "metadata": {
        "id": "Kymvr7Qapc-5",
        "colab_type": "code",
        "outputId": "bc305b67-5989-4346-eba9-27ae057a60ed",
        "colab": {
          "base_uri": "https://localhost:8080/",
          "height": 70
        }
      },
      "source": [
        "from keras.applications import MobileNetV2\n",
        "\n",
        "conv_base = MobileNetV2(\n",
        "    weights='imagenet', \n",
        "    include_top=False, \n",
        "    input_shape=(150, 150, 3))"
      ],
      "execution_count": 24,
      "outputs": [
        {
          "output_type": "stream",
          "text": [
            "/usr/local/lib/python3.6/dist-packages/keras_applications/mobilenet_v2.py:294: UserWarning: `input_shape` is undefined or non-square, or `rows` is not in [96, 128, 160, 192, 224]. Weights for input shape (224, 224) will be loaded as the default.\n",
            "  warnings.warn('`input_shape` is undefined or non-square, '\n"
          ],
          "name": "stderr"
        }
      ]
    },
    {
      "cell_type": "markdown",
      "metadata": {
        "id": "0b-LZBlpNiP-",
        "colab_type": "text"
      },
      "source": [
        "##Freeze the convolutional base"
      ]
    },
    {
      "cell_type": "code",
      "metadata": {
        "id": "taU7AMm9z0M6",
        "colab_type": "code",
        "colab": {}
      },
      "source": [
        "conv_base.trainable = False"
      ],
      "execution_count": 0,
      "outputs": []
    },
    {
      "cell_type": "markdown",
      "metadata": {
        "id": "xVKCv40WNj2-",
        "colab_type": "text"
      },
      "source": [
        "##Concatenate the convolutional base and densely connected layers"
      ]
    },
    {
      "cell_type": "code",
      "metadata": {
        "id": "rlCiZo46z22Y",
        "colab_type": "code",
        "colab": {}
      },
      "source": [
        "from keras import layers\n",
        "from keras import models\n",
        "from keras import optimizers\n",
        "\n",
        "model = models.Sequential()\n",
        "model.add(conv_base)\n",
        "model.add(layers.Flatten())\n",
        "model.add(layers.Dense(256, activation='relu'))\n",
        "model.add(layers.Dropout(0.1))\n",
        "model.add(layers.Dense(1, activation='sigmoid'))"
      ],
      "execution_count": 0,
      "outputs": []
    },
    {
      "cell_type": "code",
      "metadata": {
        "id": "vh8gxGJ0z5lo",
        "colab_type": "code",
        "outputId": "893c7da7-d4e7-4b77-be6b-97c5fdac4b3e",
        "colab": {
          "base_uri": "https://localhost:8080/",
          "height": 319
        }
      },
      "source": [
        "model.summary()"
      ],
      "execution_count": 27,
      "outputs": [
        {
          "output_type": "stream",
          "text": [
            "Model: \"sequential_2\"\n",
            "_________________________________________________________________\n",
            "Layer (type)                 Output Shape              Param #   \n",
            "=================================================================\n",
            "mobilenetv2_1.00_224 (Model) (None, 5, 5, 1280)        2257984   \n",
            "_________________________________________________________________\n",
            "flatten_2 (Flatten)          (None, 32000)             0         \n",
            "_________________________________________________________________\n",
            "dense_3 (Dense)              (None, 256)               8192256   \n",
            "_________________________________________________________________\n",
            "dropout_2 (Dropout)          (None, 256)               0         \n",
            "_________________________________________________________________\n",
            "dense_4 (Dense)              (None, 1)                 257       \n",
            "=================================================================\n",
            "Total params: 10,450,497\n",
            "Trainable params: 8,192,513\n",
            "Non-trainable params: 2,257,984\n",
            "_________________________________________________________________\n"
          ],
          "name": "stdout"
        }
      ]
    },
    {
      "cell_type": "markdown",
      "metadata": {
        "id": "Qgkd04UgNoQG",
        "colab_type": "text"
      },
      "source": [
        "#Train the model end to end with frozen convolutional base"
      ]
    },
    {
      "cell_type": "code",
      "metadata": {
        "id": "QzqWrtVGz8lQ",
        "colab_type": "code",
        "outputId": "db238773-d141-4168-e0a7-ed5d24fca868",
        "colab": {
          "base_uri": "https://localhost:8080/",
          "height": 1000
        }
      },
      "source": [
        "from keras.preprocessing.image import ImageDataGenerator\n",
        "from keras import optimizers\n",
        "\n",
        "# data augmentation\n",
        "\n",
        "train_datagen = ImageDataGenerator(\n",
        "    rescale=1./255, \n",
        "    rotation_range=40,\n",
        "    width_shift_range=0.2,\n",
        "    height_shift_range=0.2,\n",
        "    shear_range=0.2,\n",
        "    zoom_range=0.2,\n",
        "    horizontal_flip=True,\n",
        "    fill_mode='nearest'\n",
        ")\n",
        "\n",
        "train_generator = train_datagen.flow_from_directory(\n",
        "    train_dir,\n",
        "    target_size=(150, 150),\n",
        "    batch_size=20,\n",
        "    class_mode='binary')\n",
        "\n",
        "validation_datagen = ImageDataGenerator(rescale=1./255)\n",
        "\n",
        "validation_generator = validation_datagen.flow_from_directory(\n",
        "    validation_dir,\n",
        "    target_size=(150, 150),\n",
        "    batch_size=20,\n",
        "    class_mode='binary')\n",
        "\n",
        "# compile model\n",
        "\n",
        "model.compile(\n",
        "    loss='binary_crossentropy', \n",
        "    optimizer=optimizers.RMSprop(lr=2e-5), \n",
        "    metrics=['acc'])\n",
        "\n",
        "# train\n",
        "\n",
        "history = model.fit_generator(\n",
        "    train_generator,\n",
        "    steps_per_epoch=100,\n",
        "    epochs=30,\n",
        "    validation_data=validation_generator,\n",
        "    validation_steps=50\n",
        ")"
      ],
      "execution_count": 28,
      "outputs": [
        {
          "output_type": "stream",
          "text": [
            "Found 2000 images belonging to 2 classes.\n",
            "Found 1000 images belonging to 2 classes.\n",
            "Epoch 1/30\n",
            "100/100 [==============================] - 20s 205ms/step - loss: 0.4555 - acc: 0.7885 - val_loss: 0.1117 - val_acc: 0.8660\n",
            "Epoch 2/30\n",
            "100/100 [==============================] - 17s 172ms/step - loss: 0.3328 - acc: 0.8520 - val_loss: 0.3094 - val_acc: 0.9030\n",
            "Epoch 3/30\n",
            "100/100 [==============================] - 17s 173ms/step - loss: 0.3262 - acc: 0.8610 - val_loss: 0.4588 - val_acc: 0.8850\n",
            "Epoch 4/30\n",
            "100/100 [==============================] - 17s 173ms/step - loss: 0.2824 - acc: 0.8745 - val_loss: 0.2979 - val_acc: 0.8770\n",
            "Epoch 5/30\n",
            "100/100 [==============================] - 17s 174ms/step - loss: 0.2842 - acc: 0.8910 - val_loss: 1.0237 - val_acc: 0.9050\n",
            "Epoch 6/30\n",
            "100/100 [==============================] - 17s 172ms/step - loss: 0.2681 - acc: 0.8860 - val_loss: 0.7400 - val_acc: 0.9260\n",
            "Epoch 7/30\n",
            "100/100 [==============================] - 17s 172ms/step - loss: 0.2931 - acc: 0.8740 - val_loss: 0.0032 - val_acc: 0.9090\n",
            "Epoch 8/30\n",
            "100/100 [==============================] - 17s 174ms/step - loss: 0.2471 - acc: 0.8990 - val_loss: 0.3191 - val_acc: 0.8940\n",
            "Epoch 9/30\n",
            "100/100 [==============================] - 17s 174ms/step - loss: 0.2388 - acc: 0.8980 - val_loss: 0.8855 - val_acc: 0.9020\n",
            "Epoch 10/30\n",
            "100/100 [==============================] - 17s 172ms/step - loss: 0.2427 - acc: 0.8955 - val_loss: 0.3372 - val_acc: 0.9390\n",
            "Epoch 11/30\n",
            "100/100 [==============================] - 17s 172ms/step - loss: 0.2264 - acc: 0.9080 - val_loss: 1.5169 - val_acc: 0.9070\n",
            "Epoch 12/30\n",
            "100/100 [==============================] - 17s 174ms/step - loss: 0.2107 - acc: 0.9170 - val_loss: 0.4754 - val_acc: 0.9150\n",
            "Epoch 13/30\n",
            "100/100 [==============================] - 17s 174ms/step - loss: 0.2422 - acc: 0.9060 - val_loss: 0.5714 - val_acc: 0.9180\n",
            "Epoch 14/30\n",
            "100/100 [==============================] - 18s 176ms/step - loss: 0.2313 - acc: 0.9050 - val_loss: 0.1668 - val_acc: 0.9250\n",
            "Epoch 15/30\n",
            "100/100 [==============================] - 17s 174ms/step - loss: 0.2075 - acc: 0.9145 - val_loss: 0.5715 - val_acc: 0.8910\n",
            "Epoch 16/30\n",
            "100/100 [==============================] - 17s 172ms/step - loss: 0.2455 - acc: 0.9030 - val_loss: 0.3392 - val_acc: 0.8960\n",
            "Epoch 17/30\n",
            "100/100 [==============================] - 18s 176ms/step - loss: 0.2233 - acc: 0.9050 - val_loss: 0.1604 - val_acc: 0.9030\n",
            "Epoch 18/30\n",
            "100/100 [==============================] - 17s 174ms/step - loss: 0.2051 - acc: 0.9175 - val_loss: 0.0631 - val_acc: 0.8710\n",
            "Epoch 19/30\n",
            "100/100 [==============================] - 17s 174ms/step - loss: 0.1896 - acc: 0.9255 - val_loss: 0.1398 - val_acc: 0.9190\n",
            "Epoch 20/30\n",
            "100/100 [==============================] - 17s 174ms/step - loss: 0.1793 - acc: 0.9220 - val_loss: 0.0040 - val_acc: 0.8960\n",
            "Epoch 21/30\n",
            "100/100 [==============================] - 17s 173ms/step - loss: 0.2148 - acc: 0.9205 - val_loss: 0.4527 - val_acc: 0.9160\n",
            "Epoch 22/30\n",
            "100/100 [==============================] - 17s 174ms/step - loss: 0.2307 - acc: 0.9070 - val_loss: 0.0849 - val_acc: 0.9000\n",
            "Epoch 23/30\n",
            "100/100 [==============================] - 17s 175ms/step - loss: 0.2050 - acc: 0.9195 - val_loss: 0.4187 - val_acc: 0.9140\n",
            "Epoch 24/30\n",
            "100/100 [==============================] - 17s 174ms/step - loss: 0.1944 - acc: 0.9215 - val_loss: 1.1009 - val_acc: 0.8370\n",
            "Epoch 25/30\n",
            "100/100 [==============================] - 17s 174ms/step - loss: 0.1849 - acc: 0.9285 - val_loss: 1.3399 - val_acc: 0.8730\n",
            "Epoch 26/30\n",
            "100/100 [==============================] - 17s 174ms/step - loss: 0.1881 - acc: 0.9270 - val_loss: 0.0132 - val_acc: 0.9090\n",
            "Epoch 27/30\n",
            "100/100 [==============================] - 17s 175ms/step - loss: 0.1877 - acc: 0.9235 - val_loss: 0.8420 - val_acc: 0.9110\n",
            "Epoch 28/30\n",
            "100/100 [==============================] - 17s 174ms/step - loss: 0.1774 - acc: 0.9335 - val_loss: 0.5585 - val_acc: 0.8940\n",
            "Epoch 29/30\n",
            "100/100 [==============================] - 18s 176ms/step - loss: 0.2024 - acc: 0.9205 - val_loss: 0.0849 - val_acc: 0.9070\n",
            "Epoch 30/30\n",
            "100/100 [==============================] - 17s 173ms/step - loss: 0.1887 - acc: 0.9310 - val_loss: 0.5471 - val_acc: 0.9080\n"
          ],
          "name": "stdout"
        }
      ]
    },
    {
      "cell_type": "markdown",
      "metadata": {
        "id": "lkEnZcc2NuYm",
        "colab_type": "text"
      },
      "source": [
        "#Display curves of loss and accuracy during training"
      ]
    },
    {
      "cell_type": "code",
      "metadata": {
        "id": "jQu88pX3z_H_",
        "colab_type": "code",
        "outputId": "ab96c5d1-0ff5-4299-85a3-d4e769431ed0",
        "colab": {
          "base_uri": "https://localhost:8080/",
          "height": 545
        }
      },
      "source": [
        "%matplotlib inline\n",
        "\n",
        "import matplotlib.pyplot as plt\n",
        "\n",
        "acc = history.history['acc']\n",
        "val_acc = history.history['val_acc']\n",
        "\n",
        "loss = history.history['loss']\n",
        "val_loss = history.history['val_loss']\n",
        "\n",
        "epochs = range(1, len(acc) + 1)\n",
        "\n",
        "# training and validation accuracy\n",
        "\n",
        "plt.plot(epochs, acc, 'bo', label='training acc')\n",
        "plt.plot(epochs, val_acc, 'b', label='validation acc')\n",
        "plt.title('training and validation accuracy')\n",
        "plt.legend()\n",
        "\n",
        "plt.figure()\n",
        "\n",
        "# training and validation loss\n",
        "\n",
        "plt.plot(epochs, loss, 'bo', label='training loss')\n",
        "plt.plot(epochs, val_loss, 'b', label='validation loss')\n",
        "plt.title('training and validation loss')\n",
        "plt.legend()\n",
        "\n",
        "plt.show()"
      ],
      "execution_count": 29,
      "outputs": [
        {
          "output_type": "display_data",
          "data": {
            "image/png": "[encoded data removed]",
            "text/plain": [
              "<Figure size 432x288 with 1 Axes>"
            ]
          },
          "metadata": {
            "tags": [],
            "needs_background": "light"
          }
        },
        {
          "output_type": "display_data",
          "data": {
            "image/png": "[encoded data removed]",
            "text/plain": [
              "<Figure size 432x288 with 1 Axes>"
            ]
          },
          "metadata": {
            "tags": [],
            "needs_background": "light"
          }
        }
      ]
    },
    {
      "cell_type": "markdown",
      "metadata": {
        "id": "YQT9zDPNNz4_",
        "colab_type": "text"
      },
      "source": [
        "#Fine-tuning\n",
        "I chose to unfreeze block_5_expand in mobilenetV2"
      ]
    },
    {
      "cell_type": "code",
      "metadata": {
        "id": "d7b8FoTg0Bif",
        "colab_type": "code",
        "colab": {}
      },
      "source": [
        "conv_base.trainable = True\n",
        "\n",
        "set_trainable = False\n",
        "for layer in conv_base.layers:\n",
        "  if layer.name == 'block_5_expand':\n",
        "    set_trainable = True\n",
        "  if set_trainable:\n",
        "    layer.trainable = True\n",
        "  else:\n",
        "    layer.trainable = False"
      ],
      "execution_count": 0,
      "outputs": []
    },
    {
      "cell_type": "code",
      "metadata": {
        "id": "_VHBb1Pp0DZ3",
        "colab_type": "code",
        "outputId": "106f6ef9-17c2-4bb7-e999-29bca1343fa6",
        "colab": {
          "base_uri": "https://localhost:8080/",
          "height": 1000
        }
      },
      "source": [
        "# compile model\n",
        "\n",
        "model.compile(\n",
        "    loss='binary_crossentropy',\n",
        "    #\n",
        "    # choose a smaller learning rate\n",
        "    #\n",
        "    optimizer=optimizers.RMSprop(lr=1e-5), \n",
        "    metrics=['acc'])\n",
        "\n",
        "# train\n",
        "\n",
        "history = model.fit_generator(\n",
        "    train_generator,\n",
        "    steps_per_epoch=100,\n",
        "    epochs=30,\n",
        "    validation_data=validation_generator,\n",
        "    validation_steps=50)"
      ],
      "execution_count": 31,
      "outputs": [
        {
          "output_type": "stream",
          "text": [
            "Epoch 1/30\n",
            "100/100 [==============================] - 29s 289ms/step - loss: 0.1874 - acc: 0.9245 - val_loss: 0.0227 - val_acc: 0.9280\n",
            "Epoch 2/30\n",
            "100/100 [==============================] - 20s 200ms/step - loss: 0.1508 - acc: 0.9430 - val_loss: 0.5922 - val_acc: 0.9150\n",
            "Epoch 3/30\n",
            "100/100 [==============================] - 20s 200ms/step - loss: 0.1666 - acc: 0.9375 - val_loss: 0.3841 - val_acc: 0.9320\n",
            "Epoch 4/30\n",
            "100/100 [==============================] - 20s 201ms/step - loss: 0.1586 - acc: 0.9395 - val_loss: 2.6421e-04 - val_acc: 0.9430\n",
            "Epoch 5/30\n",
            "100/100 [==============================] - 20s 202ms/step - loss: 0.1609 - acc: 0.9330 - val_loss: 0.1550 - val_acc: 0.9590\n",
            "Epoch 6/30\n",
            "100/100 [==============================] - 20s 202ms/step - loss: 0.1504 - acc: 0.9395 - val_loss: 0.0790 - val_acc: 0.9550\n",
            "Epoch 7/30\n",
            "100/100 [==============================] - 20s 203ms/step - loss: 0.1308 - acc: 0.9495 - val_loss: 0.0015 - val_acc: 0.9560\n",
            "Epoch 8/30\n",
            "100/100 [==============================] - 20s 204ms/step - loss: 0.1638 - acc: 0.9410 - val_loss: 0.0824 - val_acc: 0.9600\n",
            "Epoch 9/30\n",
            "100/100 [==============================] - 20s 203ms/step - loss: 0.1428 - acc: 0.9470 - val_loss: 0.4184 - val_acc: 0.9600\n",
            "Epoch 10/30\n",
            "100/100 [==============================] - 20s 204ms/step - loss: 0.1455 - acc: 0.9415 - val_loss: 0.0489 - val_acc: 0.9550\n",
            "Epoch 11/30\n",
            "100/100 [==============================] - 20s 204ms/step - loss: 0.1382 - acc: 0.9410 - val_loss: 0.2661 - val_acc: 0.9630\n",
            "Epoch 12/30\n",
            "100/100 [==============================] - 20s 204ms/step - loss: 0.1449 - acc: 0.9440 - val_loss: 0.0378 - val_acc: 0.9640\n",
            "Epoch 13/30\n",
            "100/100 [==============================] - 21s 205ms/step - loss: 0.1385 - acc: 0.9420 - val_loss: 0.0418 - val_acc: 0.9680\n",
            "Epoch 14/30\n",
            "100/100 [==============================] - 20s 203ms/step - loss: 0.0992 - acc: 0.9620 - val_loss: 0.1949 - val_acc: 0.9630\n",
            "Epoch 15/30\n",
            "100/100 [==============================] - 21s 205ms/step - loss: 0.1172 - acc: 0.9530 - val_loss: 0.0294 - val_acc: 0.9650\n",
            "Epoch 16/30\n",
            "100/100 [==============================] - 20s 204ms/step - loss: 0.1226 - acc: 0.9480 - val_loss: 0.2806 - val_acc: 0.9590\n",
            "Epoch 17/30\n",
            "100/100 [==============================] - 20s 204ms/step - loss: 0.0935 - acc: 0.9625 - val_loss: 0.2001 - val_acc: 0.9600\n",
            "Epoch 18/30\n",
            "100/100 [==============================] - 20s 202ms/step - loss: 0.0929 - acc: 0.9660 - val_loss: 0.0013 - val_acc: 0.9560\n",
            "Epoch 19/30\n",
            "100/100 [==============================] - 20s 204ms/step - loss: 0.1065 - acc: 0.9600 - val_loss: 0.2963 - val_acc: 0.9590\n",
            "Epoch 20/30\n",
            "100/100 [==============================] - 20s 204ms/step - loss: 0.0993 - acc: 0.9625 - val_loss: 0.2616 - val_acc: 0.9560\n",
            "Epoch 21/30\n",
            "100/100 [==============================] - 20s 204ms/step - loss: 0.1014 - acc: 0.9650 - val_loss: 0.0753 - val_acc: 0.9580\n",
            "Epoch 22/30\n",
            "100/100 [==============================] - 21s 206ms/step - loss: 0.1125 - acc: 0.9585 - val_loss: 0.0018 - val_acc: 0.9620\n",
            "Epoch 23/30\n",
            "100/100 [==============================] - 20s 204ms/step - loss: 0.0996 - acc: 0.9690 - val_loss: 0.5064 - val_acc: 0.9530\n",
            "Epoch 24/30\n",
            "100/100 [==============================] - 20s 205ms/step - loss: 0.0935 - acc: 0.9645 - val_loss: 0.0024 - val_acc: 0.9540\n",
            "Epoch 25/30\n",
            "100/100 [==============================] - 20s 204ms/step - loss: 0.0909 - acc: 0.9670 - val_loss: 0.2829 - val_acc: 0.9620\n",
            "Epoch 26/30\n",
            "100/100 [==============================] - 20s 203ms/step - loss: 0.0986 - acc: 0.9610 - val_loss: 6.2063e-04 - val_acc: 0.9590\n",
            "Epoch 27/30\n",
            "100/100 [==============================] - 20s 204ms/step - loss: 0.0945 - acc: 0.9660 - val_loss: 0.1488 - val_acc: 0.9600\n",
            "Epoch 28/30\n",
            "100/100 [==============================] - 21s 205ms/step - loss: 0.0748 - acc: 0.9715 - val_loss: 0.4154 - val_acc: 0.9570\n",
            "Epoch 29/30\n",
            "100/100 [==============================] - 20s 204ms/step - loss: 0.0736 - acc: 0.9730 - val_loss: 0.3325 - val_acc: 0.9580\n",
            "Epoch 30/30\n",
            "100/100 [==============================] - 20s 205ms/step - loss: 0.0886 - acc: 0.9660 - val_loss: 8.8891e-04 - val_acc: 0.9570\n"
          ],
          "name": "stdout"
        }
      ]
    },
    {
      "cell_type": "markdown",
      "metadata": {
        "id": "06oGn_YmN8L2",
        "colab_type": "text"
      },
      "source": [
        "#Display learning curves during fine-tuning"
      ]
    },
    {
      "cell_type": "code",
      "metadata": {
        "id": "Ilofcfaa0IEY",
        "colab_type": "code",
        "outputId": "260fcbe7-a5a5-4560-ab55-7481ee7132fb",
        "colab": {
          "base_uri": "https://localhost:8080/",
          "height": 545
        }
      },
      "source": [
        "%matplotlib inline\n",
        "\n",
        "import matplotlib.pyplot as plt\n",
        "\n",
        "acc = history.history['acc']\n",
        "val_acc = history.history['val_acc']\n",
        "\n",
        "loss = history.history['loss']\n",
        "val_loss = history.history['val_loss']\n",
        "\n",
        "epochs = range(1, len(acc) + 1)\n",
        "\n",
        "# training and validation accuracy\n",
        "\n",
        "plt.plot(epochs, acc, 'bo', label='training acc')\n",
        "plt.plot(epochs, val_acc, 'b', label='validation acc')\n",
        "plt.title('training and validation accuracy')\n",
        "plt.legend()\n",
        "\n",
        "plt.figure()\n",
        "\n",
        "# training and validation loss\n",
        "\n",
        "plt.plot(epochs, loss, 'bo', label='training loss')\n",
        "plt.plot(epochs, val_loss, 'b', label='validation loss')\n",
        "plt.title('training and validation loss')\n",
        "plt.legend()\n",
        "\n",
        "plt.show()"
      ],
      "execution_count": 32,
      "outputs": [
        {
          "output_type": "display_data",
          "data": {
            "image/png": "[encoded data removed]",
            "text/plain": [
              "<Figure size 432x288 with 1 Axes>"
            ]
          },
          "metadata": {
            "tags": [],
            "needs_background": "light"
          }
        },
        {
          "output_type": "display_data",
          "data": {
            "image/png": "[encoded data removed]",
            "text/plain": [
              "<Figure size 432x288 with 1 Axes>"
            ]
          },
          "metadata": {
            "tags": [],
            "needs_background": "light"
          }
        }
      ]
    },
    {
      "cell_type": "markdown",
      "metadata": {
        "id": "IK2XN5gfMeDI",
        "colab_type": "text"
      },
      "source": [
        "the validation loss fluctuating, probably caused by high learning rate"
      ]
    },
    {
      "cell_type": "markdown",
      "metadata": {
        "id": "saxkpSfMOAXm",
        "colab_type": "text"
      },
      "source": [
        "#Print out validation loss and accuracy"
      ]
    },
    {
      "cell_type": "code",
      "metadata": {
        "id": "0Sqy_4D60KVv",
        "colab_type": "code",
        "colab": {}
      },
      "source": [
        "val_loss, val_acc = model.evaluate_generator(validation_generator, steps=50)"
      ],
      "execution_count": 0,
      "outputs": []
    },
    {
      "cell_type": "code",
      "metadata": {
        "id": "SPWOy0U90Ls4",
        "colab_type": "code",
        "outputId": "18653bdf-b135-4ccd-8a5e-e3e868fd7c2e",
        "colab": {
          "base_uri": "https://localhost:8080/",
          "height": 50
        }
      },
      "source": [
        "print(\"Validation loss:\", val_loss)\n",
        "print(\"Validation accuracy:\", val_acc)"
      ],
      "execution_count": 34,
      "outputs": [
        {
          "output_type": "stream",
          "text": [
            "Validation loss: 0.0008889109594747424\n",
            "Validation accuracy: 0.9570000171661377\n"
          ],
          "name": "stdout"
        }
      ]
    },
    {
      "cell_type": "markdown",
      "metadata": {
        "id": "WhJxbKL5OHxt",
        "colab_type": "text"
      },
      "source": [
        "#Save the model"
      ]
    },
    {
      "cell_type": "code",
      "metadata": {
        "id": "B-2r5yCu0NAg",
        "colab_type": "code",
        "colab": {}
      },
      "source": [
        "model_fname = 'cats_and_dogs_small_4.h5' \n",
        "model.save(model_fname)"
      ],
      "execution_count": 0,
      "outputs": []
    }
  ]
}