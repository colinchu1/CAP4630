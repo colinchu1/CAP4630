{
  "nbformat": 4,
  "nbformat_minor": 0,
  "metadata": {
    "colab": {
      "name": "HW_4(problem3-2).ipynb",
      "provenance": [],
      "collapsed_sections": [],
      "authorship_tag": "ABX9TyNgMz4xqRZxHxZ5fxGnXJri",
      "include_colab_link": true
    },
    "kernelspec": {
      "name": "python3",
      "display_name": "Python 3"
    },
    "accelerator": "GPU"
  },
  "cells": [
    {
      "cell_type": "markdown",
      "metadata": {
        "id": "view-in-github",
        "colab_type": "text"
      },
      "source": [
        "<a href=\"https://colab.research.google.com/github/colinchu1/CAP4630/blob/master/HW4/HW_4(problem3_2).ipynb\" target=\"_parent\"><img src=\"https://colab.research.google.com/assets/colab-badge.svg\" alt=\"Open In Colab\"/></a>"
      ]
    },
    {
      "cell_type": "markdown",
      "metadata": {
        "id": "jiNEosJAJ4yi",
        "colab_type": "text"
      },
      "source": [
        "You will adapt the notebook using VGG16 conv base for feature extraction, using data augmentation, not using dropout, fine-tuning. You will have to replace the VGG16 conv base by new conv bases. You should not use VGG19.\n",
        "\n",
        "You should create two notebooks. Both should use the same conv base, unfreeze the same number of layers of the conv_base, but use different classifiers."
      ]
    },
    {
      "cell_type": "markdown",
      "metadata": {
        "id": "_c_FauBrKPCv",
        "colab_type": "text"
      },
      "source": [
        "##Download Data\n",
        "Download the example data, a zip. of 2,000 JPG pictures of cats and dogs and extract it locally in /tmp."
      ]
    },
    {
      "cell_type": "code",
      "metadata": {
        "id": "3M-HIr-LEh8Y",
        "colab_type": "code",
        "outputId": "a5065352-d812-4ed8-bff9-c78c5aded8f3",
        "colab": {
          "base_uri": "https://localhost:8080/",
          "height": 202
        }
      },
      "source": [
        "!wget --no-check-certificate \\\n",
        "    https://storage.googleapis.com/mledu-datasets/cats_and_dogs_filtered.zip \\\n",
        "    -O /tmp/cats_and_dogs_filtered.zip"
      ],
      "execution_count": 1,
      "outputs": [
        {
          "output_type": "stream",
          "text": [
            "--2020-04-22 02:17:24--  https://storage.googleapis.com/mledu-datasets/cats_and_dogs_filtered.zip\n",
            "Resolving storage.googleapis.com (storage.googleapis.com)... 108.177.119.128, 2a00:1450:4013:c00::80\n",
            "Connecting to storage.googleapis.com (storage.googleapis.com)|108.177.119.128|:443... connected.\n",
            "HTTP request sent, awaiting response... 200 OK\n",
            "Length: 68606236 (65M) [application/zip]\n",
            "Saving to: ‘/tmp/cats_and_dogs_filtered.zip’\n",
            "\n",
            "\r          /tmp/cats   0%[                    ]       0  --.-KB/s               \r         /tmp/cats_  48%[========>           ]  32.01M  58.7MB/s               \r/tmp/cats_and_dogs_ 100%[===================>]  65.43M  99.9MB/s    in 0.7s    \n",
            "\n",
            "2020-04-22 02:17:24 (99.9 MB/s) - ‘/tmp/cats_and_dogs_filtered.zip’ saved [68606236/68606236]\n",
            "\n"
          ],
          "name": "stdout"
        }
      ]
    },
    {
      "cell_type": "code",
      "metadata": {
        "id": "lp4ymG2YEqPA",
        "colab_type": "code",
        "colab": {}
      },
      "source": [
        "import os\n",
        "import zipfile\n",
        "\n",
        "local_zip = '/tmp/cats_and_dogs_filtered.zip'\n",
        "zip_ref = zipfile.ZipFile(local_zip, 'r')\n",
        "zip_ref.extractall('/tmp')\n",
        "zip_ref.close()"
      ],
      "execution_count": 0,
      "outputs": []
    },
    {
      "cell_type": "markdown",
      "metadata": {
        "id": "ng1AIWEjKbi-",
        "colab_type": "text"
      },
      "source": [
        "Note that the data provided by Google does not have a test set."
      ]
    },
    {
      "cell_type": "code",
      "metadata": {
        "id": "MglltVbyEsIv",
        "colab_type": "code",
        "colab": {}
      },
      "source": [
        "base_dir = '/tmp/cats_and_dogs_filtered'\n",
        "train_dir = os.path.join(base_dir, 'train')\n",
        "validation_dir = os.path.join(base_dir, 'validation')\n",
        "\n",
        "# Directory with our training cat pictures\n",
        "train_cats_dir = os.path.join(train_dir, 'cats')\n",
        "\n",
        "# Directory with our training dog pictures\n",
        "train_dogs_dir = os.path.join(train_dir, 'dogs')\n",
        "\n",
        "# Directory with our validation cat pictures\n",
        "validation_cats_dir = os.path.join(validation_dir, 'cats')\n",
        "\n",
        "# Directory with our validation dog pictures\n",
        "validation_dogs_dir = os.path.join(validation_dir, 'dogs')"
      ],
      "execution_count": 0,
      "outputs": []
    },
    {
      "cell_type": "markdown",
      "metadata": {
        "id": "06pWz0dgKhsA",
        "colab_type": "text"
      },
      "source": [
        "##Build network with MobileNetV2 convolution base and custom densely connected layers"
      ]
    },
    {
      "cell_type": "markdown",
      "metadata": {
        "id": "cbdfMTzsKujG",
        "colab_type": "text"
      },
      "source": [
        "###Load the convolutional base"
      ]
    },
    {
      "cell_type": "code",
      "metadata": {
        "id": "jNFZL4FbEt8e",
        "colab_type": "code",
        "outputId": "fb34e725-ba7c-45f4-facb-7effeebdd9e4",
        "colab": {
          "base_uri": "https://localhost:8080/",
          "height": 101
        }
      },
      "source": [
        "from keras.applications import MobileNetV2\n",
        "\n",
        "conv_base = MobileNetV2(\n",
        "    weights='imagenet', \n",
        "    include_top=False, \n",
        "    input_shape=(150, 150, 3))"
      ],
      "execution_count": 4,
      "outputs": [
        {
          "output_type": "stream",
          "text": [
            "Using TensorFlow backend.\n",
            "/usr/local/lib/python3.6/dist-packages/keras_applications/mobilenet_v2.py:294: UserWarning: `input_shape` is undefined or non-square, or `rows` is not in [96, 128, 160, 192, 224]. Weights for input shape (224, 224) will be loaded as the default.\n",
            "  warnings.warn('`input_shape` is undefined or non-square, '\n"
          ],
          "name": "stderr"
        },
        {
          "output_type": "stream",
          "text": [
            "Downloading data from https://github.com/JonathanCMitchell/mobilenet_v2_keras/releases/download/v1.1/mobilenet_v2_weights_tf_dim_ordering_tf_kernels_1.0_224_no_top.h5\n",
            "9412608/9406464 [==============================] - 1s 0us/step\n"
          ],
          "name": "stdout"
        }
      ]
    },
    {
      "cell_type": "markdown",
      "metadata": {
        "id": "WYbpt2aeK1Ue",
        "colab_type": "text"
      },
      "source": [
        "###Freeze the convolutional base"
      ]
    },
    {
      "cell_type": "code",
      "metadata": {
        "id": "LUe7XNbDEvSu",
        "colab_type": "code",
        "colab": {}
      },
      "source": [
        "conv_base.trainable = False"
      ],
      "execution_count": 0,
      "outputs": []
    },
    {
      "cell_type": "markdown",
      "metadata": {
        "id": "yxT-SpsLK5W2",
        "colab_type": "text"
      },
      "source": [
        "###Concatenate the convolutional base and densely connected layers"
      ]
    },
    {
      "cell_type": "markdown",
      "metadata": {
        "id": "LchB3u-P1Kjj",
        "colab_type": "text"
      },
      "source": [
        "I added a maxpooling layer since it helps with classifiying image, and another dense layer"
      ]
    },
    {
      "cell_type": "code",
      "metadata": {
        "id": "5yFbQxmaEztW",
        "colab_type": "code",
        "colab": {}
      },
      "source": [
        "from keras import layers\n",
        "from keras import models\n",
        "from keras import optimizers\n",
        "\n",
        "model = models.Sequential()\n",
        "model.add(conv_base)\n",
        "model.add(layers.MaxPooling2D(pool_size=(2, 2)))\n",
        "model.add(layers.Flatten())\n",
        "model.add(layers.Dense(256, activation='relu'))\n",
        "model.add(layers.Dense(128, activation='relu'))\n",
        "model.add(layers.Dropout(0.1))\n",
        "model.add(layers.Dense(1, activation='sigmoid'))"
      ],
      "execution_count": 0,
      "outputs": []
    },
    {
      "cell_type": "code",
      "metadata": {
        "id": "POnR3KnkE1N2",
        "colab_type": "code",
        "outputId": "b81b2588-410a-4b3a-f54e-c9d0f39a2487",
        "colab": {
          "base_uri": "https://localhost:8080/",
          "height": 386
        }
      },
      "source": [
        "model.summary()"
      ],
      "execution_count": 8,
      "outputs": [
        {
          "output_type": "stream",
          "text": [
            "Model: \"sequential_2\"\n",
            "_________________________________________________________________\n",
            "Layer (type)                 Output Shape              Param #   \n",
            "=================================================================\n",
            "mobilenetv2_1.00_224 (Model) (None, 5, 5, 1280)        2257984   \n",
            "_________________________________________________________________\n",
            "max_pooling2d_1 (MaxPooling2 (None, 2, 2, 1280)        0         \n",
            "_________________________________________________________________\n",
            "flatten_1 (Flatten)          (None, 5120)              0         \n",
            "_________________________________________________________________\n",
            "dense_1 (Dense)              (None, 256)               1310976   \n",
            "_________________________________________________________________\n",
            "dense_2 (Dense)              (None, 128)               32896     \n",
            "_________________________________________________________________\n",
            "dropout_1 (Dropout)          (None, 128)               0         \n",
            "_________________________________________________________________\n",
            "dense_3 (Dense)              (None, 1)                 129       \n",
            "=================================================================\n",
            "Total params: 3,601,985\n",
            "Trainable params: 1,344,001\n",
            "Non-trainable params: 2,257,984\n",
            "_________________________________________________________________\n"
          ],
          "name": "stdout"
        }
      ]
    },
    {
      "cell_type": "markdown",
      "metadata": {
        "id": "LiFwaap1LHXO",
        "colab_type": "text"
      },
      "source": [
        "#Train the model end to end with frozen convolutional base"
      ]
    },
    {
      "cell_type": "markdown",
      "metadata": {
        "id": "fnEtkCWfLuXW",
        "colab_type": "text"
      },
      "source": [
        "This note book will be changing the classifier using max pooling(a layer helps trying to classifying images) and another dense layer\n",
        "\n"
      ]
    },
    {
      "cell_type": "code",
      "metadata": {
        "id": "lkIHa3GiE9SP",
        "colab_type": "code",
        "outputId": "3e7ffe38-8461-4721-be9f-3bf4aac84d07",
        "colab": {
          "base_uri": "https://localhost:8080/",
          "height": 50
        }
      },
      "source": [
        "from tensorflow.keras.preprocessing.image import ImageDataGenerator\n",
        "from tensorflow.keras import optimizers\n",
        "\n",
        "# data augmentation\n",
        "\n",
        "train_datagen = ImageDataGenerator(\n",
        "    rescale=1./255, \n",
        "    rotation_range=40,\n",
        "    width_shift_range=0.2,\n",
        "    height_shift_range=0.2,\n",
        "    shear_range=0.2,\n",
        "    zoom_range=0.2,\n",
        "    horizontal_flip=True,\n",
        "    fill_mode='nearest'\n",
        ")\n",
        "\n",
        "train_generator = train_datagen.flow_from_directory(\n",
        "    train_dir,\n",
        "    target_size=(150, 150),\n",
        "    batch_size=20,\n",
        "    class_mode='binary')\n",
        "\n",
        "validation_datagen = ImageDataGenerator(rescale=1./255)\n",
        "\n",
        "validation_generator = validation_datagen.flow_from_directory(\n",
        "    validation_dir,\n",
        "    target_size=(150, 150),\n",
        "    batch_size=20,\n",
        "    class_mode='binary')"
      ],
      "execution_count": 10,
      "outputs": [
        {
          "output_type": "stream",
          "text": [
            "Found 2000 images belonging to 2 classes.\n",
            "Found 1000 images belonging to 2 classes.\n"
          ],
          "name": "stdout"
        }
      ]
    },
    {
      "cell_type": "code",
      "metadata": {
        "id": "1zzfCKEIHP8D",
        "colab_type": "code",
        "outputId": "66c6d207-9bd7-4e31-9fd3-546b6670f8f5",
        "colab": {
          "base_uri": "https://localhost:8080/",
          "height": 1000
        }
      },
      "source": [
        "# compile model\n",
        "\n",
        "model.compile(\n",
        "    loss='binary_crossentropy', \n",
        "    optimizer=optimizers.RMSprop(lr=2e-5), \n",
        "    metrics=['acc'])\n",
        "\n",
        "# train\n",
        "\n",
        "history = model.fit(\n",
        "    train_generator,\n",
        "    steps_per_epoch=100,\n",
        "    epochs=30,\n",
        "    validation_data=validation_generator,\n",
        "    validation_steps=50\n",
        ")"
      ],
      "execution_count": 11,
      "outputs": [
        {
          "output_type": "stream",
          "text": [
            "Epoch 1/30\n",
            "100/100 [==============================] - 26s 261ms/step - loss: 0.6204 - acc: 0.6960 - val_loss: 0.6471 - val_acc: 0.8720\n",
            "Epoch 2/30\n",
            "100/100 [==============================] - 16s 163ms/step - loss: 0.4263 - acc: 0.8010 - val_loss: 0.8128 - val_acc: 0.8730\n",
            "Epoch 3/30\n",
            "100/100 [==============================] - 17s 166ms/step - loss: 0.3932 - acc: 0.8230 - val_loss: 1.0691 - val_acc: 0.8840\n",
            "Epoch 4/30\n",
            "100/100 [==============================] - 16s 164ms/step - loss: 0.3694 - acc: 0.8305 - val_loss: 0.0884 - val_acc: 0.8920\n",
            "Epoch 5/30\n",
            "100/100 [==============================] - 16s 164ms/step - loss: 0.3248 - acc: 0.8650 - val_loss: 0.4591 - val_acc: 0.9100\n",
            "Epoch 6/30\n",
            "100/100 [==============================] - 16s 164ms/step - loss: 0.3224 - acc: 0.8615 - val_loss: 0.0704 - val_acc: 0.9090\n",
            "Epoch 7/30\n",
            "100/100 [==============================] - 16s 163ms/step - loss: 0.3131 - acc: 0.8655 - val_loss: 0.3261 - val_acc: 0.9170\n",
            "Epoch 8/30\n",
            "100/100 [==============================] - 16s 164ms/step - loss: 0.3190 - acc: 0.8685 - val_loss: 0.0889 - val_acc: 0.9350\n",
            "Epoch 9/30\n",
            "100/100 [==============================] - 16s 164ms/step - loss: 0.3061 - acc: 0.8700 - val_loss: 0.2174 - val_acc: 0.9100\n",
            "Epoch 10/30\n",
            "100/100 [==============================] - 17s 166ms/step - loss: 0.2950 - acc: 0.8675 - val_loss: 0.0486 - val_acc: 0.9220\n",
            "Epoch 11/30\n",
            "100/100 [==============================] - 16s 164ms/step - loss: 0.2947 - acc: 0.8815 - val_loss: 0.4118 - val_acc: 0.9250\n",
            "Epoch 12/30\n",
            "100/100 [==============================] - 16s 164ms/step - loss: 0.2614 - acc: 0.8875 - val_loss: 0.2673 - val_acc: 0.8940\n",
            "Epoch 13/30\n",
            "100/100 [==============================] - 16s 164ms/step - loss: 0.2685 - acc: 0.8900 - val_loss: 0.5034 - val_acc: 0.9190\n",
            "Epoch 14/30\n",
            "100/100 [==============================] - 16s 164ms/step - loss: 0.2713 - acc: 0.8805 - val_loss: 0.0256 - val_acc: 0.9240\n",
            "Epoch 15/30\n",
            "100/100 [==============================] - 16s 164ms/step - loss: 0.2662 - acc: 0.8840 - val_loss: 0.2055 - val_acc: 0.9110\n",
            "Epoch 16/30\n",
            "100/100 [==============================] - 16s 163ms/step - loss: 0.2712 - acc: 0.8845 - val_loss: 0.1113 - val_acc: 0.9160\n",
            "Epoch 17/30\n",
            "100/100 [==============================] - 16s 163ms/step - loss: 0.2899 - acc: 0.8745 - val_loss: 0.1292 - val_acc: 0.9250\n",
            "Epoch 18/30\n",
            "100/100 [==============================] - 16s 163ms/step - loss: 0.2496 - acc: 0.8985 - val_loss: 0.1278 - val_acc: 0.9270\n",
            "Epoch 19/30\n",
            "100/100 [==============================] - 16s 164ms/step - loss: 0.2666 - acc: 0.8815 - val_loss: 0.0106 - val_acc: 0.9140\n",
            "Epoch 20/30\n",
            "100/100 [==============================] - 16s 163ms/step - loss: 0.2449 - acc: 0.8955 - val_loss: 0.6444 - val_acc: 0.8880\n",
            "Epoch 21/30\n",
            "100/100 [==============================] - 16s 164ms/step - loss: 0.2616 - acc: 0.8895 - val_loss: 0.2491 - val_acc: 0.9160\n",
            "Epoch 22/30\n",
            "100/100 [==============================] - 16s 164ms/step - loss: 0.2338 - acc: 0.8995 - val_loss: 1.0334 - val_acc: 0.9190\n",
            "Epoch 23/30\n",
            "100/100 [==============================] - 16s 163ms/step - loss: 0.2475 - acc: 0.8905 - val_loss: 0.1463 - val_acc: 0.9080\n",
            "Epoch 24/30\n",
            "100/100 [==============================] - 16s 164ms/step - loss: 0.2562 - acc: 0.8875 - val_loss: 0.5942 - val_acc: 0.9180\n",
            "Epoch 25/30\n",
            "100/100 [==============================] - 16s 164ms/step - loss: 0.2370 - acc: 0.9085 - val_loss: 0.0999 - val_acc: 0.9240\n",
            "Epoch 26/30\n",
            "100/100 [==============================] - 16s 164ms/step - loss: 0.2380 - acc: 0.8990 - val_loss: 0.2450 - val_acc: 0.9320\n",
            "Epoch 27/30\n",
            "100/100 [==============================] - 16s 164ms/step - loss: 0.2480 - acc: 0.9005 - val_loss: 0.0489 - val_acc: 0.9240\n",
            "Epoch 28/30\n",
            "100/100 [==============================] - 16s 164ms/step - loss: 0.2464 - acc: 0.8960 - val_loss: 0.0789 - val_acc: 0.9220\n",
            "Epoch 29/30\n",
            "100/100 [==============================] - 17s 166ms/step - loss: 0.2300 - acc: 0.8975 - val_loss: 0.0118 - val_acc: 0.9270\n",
            "Epoch 30/30\n",
            "100/100 [==============================] - 17s 165ms/step - loss: 0.2226 - acc: 0.9005 - val_loss: 0.1982 - val_acc: 0.9220\n"
          ],
          "name": "stdout"
        }
      ]
    },
    {
      "cell_type": "markdown",
      "metadata": {
        "id": "7EbZcwwKLOLe",
        "colab_type": "text"
      },
      "source": [
        "#Display curves of loss and accuracy during training"
      ]
    },
    {
      "cell_type": "code",
      "metadata": {
        "id": "P6TZOcN0TQ6t",
        "colab_type": "code",
        "outputId": "6bf41f10-ea79-4cfd-afc6-1b864cd9ecf1",
        "colab": {
          "base_uri": "https://localhost:8080/",
          "height": 545
        }
      },
      "source": [
        "%matplotlib inline\n",
        "\n",
        "import matplotlib.pyplot as plt\n",
        "\n",
        "acc = history.history['acc']\n",
        "val_acc = history.history['val_acc']\n",
        "\n",
        "loss = history.history['loss']\n",
        "val_loss = history.history['val_loss']\n",
        "\n",
        "epochs = range(1, len(acc) + 1)\n",
        "\n",
        "# training and validation accuracy\n",
        "\n",
        "plt.plot(epochs, acc, 'bo', label='training acc')\n",
        "plt.plot(epochs, val_acc, 'b', label='validation acc')\n",
        "plt.title('training and validation accuracy')\n",
        "plt.legend()\n",
        "\n",
        "plt.figure()\n",
        "\n",
        "# training and validation loss\n",
        "\n",
        "plt.plot(epochs, loss, 'bo', label='training loss')\n",
        "plt.plot(epochs, val_loss, 'b', label='validation loss')\n",
        "plt.title('training and validation loss')\n",
        "plt.legend()\n",
        "\n",
        "plt.show()"
      ],
      "execution_count": 12,
      "outputs": [
        {
          "output_type": "display_data",
          "data": {
            "image/png": "[encoded data removed]",
            "text/plain": [
              "<Figure size 432x288 with 1 Axes>"
            ]
          },
          "metadata": {
            "tags": [],
            "needs_background": "light"
          }
        },
        {
          "output_type": "display_data",
          "data": {
            "image/png": "[encoded data removed]",
            "text/plain": [
              "<Figure size 432x288 with 1 Axes>"
            ]
          },
          "metadata": {
            "tags": [],
            "needs_background": "light"
          }
        }
      ]
    },
    {
      "cell_type": "markdown",
      "metadata": {
        "id": "bPbUmGe-LSrp",
        "colab_type": "text"
      },
      "source": [
        "#Fine-tuning\n",
        "### I chose to unfreeze block_5_expand in mobilenetV2"
      ]
    },
    {
      "cell_type": "code",
      "metadata": {
        "id": "4wqw90I8TQ0Q",
        "colab_type": "code",
        "colab": {}
      },
      "source": [
        "conv_base.trainable = True\n",
        "\n",
        "set_trainable = False\n",
        "for layer in conv_base.layers:\n",
        "  if layer.name == 'block_5_expand':\n",
        "    set_trainable = True\n",
        "  if set_trainable:\n",
        "    layer.trainable = True\n",
        "  else:\n",
        "    layer.trainable = False"
      ],
      "execution_count": 0,
      "outputs": []
    },
    {
      "cell_type": "code",
      "metadata": {
        "id": "_fmz8YHMTUou",
        "colab_type": "code",
        "outputId": "c8680d1e-e19c-4bb5-9a59-2623e19c4e67",
        "colab": {
          "base_uri": "https://localhost:8080/",
          "height": 1000
        }
      },
      "source": [
        "# compile model\n",
        "\n",
        "model.compile(\n",
        "    loss='binary_crossentropy',\n",
        "    #\n",
        "    # choose a smaller learning rate\n",
        "    #\n",
        "    optimizer=optimizers.RMSprop(lr=2e-5), \n",
        "    metrics=['acc'])\n",
        "\n",
        "# train\n",
        "\n",
        "history = model.fit_generator(\n",
        "    train_generator,\n",
        "    steps_per_epoch=100,\n",
        "    epochs=30,\n",
        "    validation_data=validation_generator,\n",
        "    validation_steps=50)"
      ],
      "execution_count": 15,
      "outputs": [
        {
          "output_type": "stream",
          "text": [
            "Epoch 1/30\n",
            "100/100 [==============================] - 27s 271ms/step - loss: 0.2211 - acc: 0.9125 - val_loss: 0.1168 - val_acc: 0.9400\n",
            "Epoch 2/30\n",
            "100/100 [==============================] - 19s 188ms/step - loss: 0.2221 - acc: 0.9190 - val_loss: 0.0210 - val_acc: 0.9520\n",
            "Epoch 3/30\n",
            "100/100 [==============================] - 19s 189ms/step - loss: 0.2187 - acc: 0.9075 - val_loss: 0.0075 - val_acc: 0.9560\n",
            "Epoch 4/30\n",
            "100/100 [==============================] - 19s 190ms/step - loss: 0.1757 - acc: 0.9275 - val_loss: 0.0285 - val_acc: 0.9590\n",
            "Epoch 5/30\n",
            "100/100 [==============================] - 19s 192ms/step - loss: 0.1808 - acc: 0.9285 - val_loss: 0.3649 - val_acc: 0.9640\n",
            "Epoch 6/30\n",
            "100/100 [==============================] - 19s 189ms/step - loss: 0.1708 - acc: 0.9310 - val_loss: 0.0921 - val_acc: 0.9620\n",
            "Epoch 7/30\n",
            "100/100 [==============================] - 19s 188ms/step - loss: 0.1657 - acc: 0.9315 - val_loss: 0.1974 - val_acc: 0.9610\n",
            "Epoch 8/30\n",
            "100/100 [==============================] - 19s 192ms/step - loss: 0.1503 - acc: 0.9410 - val_loss: 0.2873 - val_acc: 0.9620\n",
            "Epoch 9/30\n",
            "100/100 [==============================] - 19s 189ms/step - loss: 0.1509 - acc: 0.9410 - val_loss: 0.0070 - val_acc: 0.9650\n",
            "Epoch 10/30\n",
            "100/100 [==============================] - 19s 189ms/step - loss: 0.1516 - acc: 0.9380 - val_loss: 0.0087 - val_acc: 0.9680\n",
            "Epoch 11/30\n",
            "100/100 [==============================] - 19s 190ms/step - loss: 0.1552 - acc: 0.9375 - val_loss: 0.0523 - val_acc: 0.9690\n",
            "Epoch 12/30\n",
            "100/100 [==============================] - 19s 191ms/step - loss: 0.1109 - acc: 0.9545 - val_loss: 0.3822 - val_acc: 0.9650\n",
            "Epoch 13/30\n",
            "100/100 [==============================] - 19s 191ms/step - loss: 0.1195 - acc: 0.9490 - val_loss: 0.0155 - val_acc: 0.9650\n",
            "Epoch 14/30\n",
            "100/100 [==============================] - 19s 190ms/step - loss: 0.1480 - acc: 0.9475 - val_loss: 0.2494 - val_acc: 0.9610\n",
            "Epoch 15/30\n",
            "100/100 [==============================] - 19s 190ms/step - loss: 0.1090 - acc: 0.9585 - val_loss: 0.0220 - val_acc: 0.9700\n",
            "Epoch 16/30\n",
            "100/100 [==============================] - 19s 190ms/step - loss: 0.1174 - acc: 0.9570 - val_loss: 0.2731 - val_acc: 0.9620\n",
            "Epoch 17/30\n",
            "100/100 [==============================] - 19s 191ms/step - loss: 0.0856 - acc: 0.9655 - val_loss: 0.1949 - val_acc: 0.9650\n",
            "Epoch 18/30\n",
            "100/100 [==============================] - 19s 190ms/step - loss: 0.1272 - acc: 0.9500 - val_loss: 0.0913 - val_acc: 0.9630\n",
            "Epoch 19/30\n",
            "100/100 [==============================] - 19s 190ms/step - loss: 0.0984 - acc: 0.9645 - val_loss: 0.0022 - val_acc: 0.9670\n",
            "Epoch 20/30\n",
            "100/100 [==============================] - 19s 191ms/step - loss: 0.1172 - acc: 0.9585 - val_loss: 0.4027 - val_acc: 0.9670\n",
            "Epoch 21/30\n",
            "100/100 [==============================] - 19s 194ms/step - loss: 0.0832 - acc: 0.9655 - val_loss: 0.2198 - val_acc: 0.9620\n",
            "Epoch 22/30\n",
            "100/100 [==============================] - 19s 191ms/step - loss: 0.0748 - acc: 0.9730 - val_loss: 0.0031 - val_acc: 0.9680\n",
            "Epoch 23/30\n",
            "100/100 [==============================] - 19s 191ms/step - loss: 0.1031 - acc: 0.9630 - val_loss: 0.0132 - val_acc: 0.9680\n",
            "Epoch 24/30\n",
            "100/100 [==============================] - 19s 192ms/step - loss: 0.0918 - acc: 0.9630 - val_loss: 0.1683 - val_acc: 0.9660\n",
            "Epoch 25/30\n",
            "100/100 [==============================] - 19s 192ms/step - loss: 0.0736 - acc: 0.9755 - val_loss: 0.1893 - val_acc: 0.9670\n",
            "Epoch 26/30\n",
            "100/100 [==============================] - 19s 191ms/step - loss: 0.0746 - acc: 0.9670 - val_loss: 0.1096 - val_acc: 0.9660\n",
            "Epoch 27/30\n",
            "100/100 [==============================] - 19s 193ms/step - loss: 0.0701 - acc: 0.9725 - val_loss: 0.0128 - val_acc: 0.9670\n",
            "Epoch 28/30\n",
            "100/100 [==============================] - 19s 191ms/step - loss: 0.0715 - acc: 0.9785 - val_loss: 7.0478e-04 - val_acc: 0.9640\n",
            "Epoch 29/30\n",
            "100/100 [==============================] - 19s 194ms/step - loss: 0.0838 - acc: 0.9705 - val_loss: 3.6016e-04 - val_acc: 0.9580\n",
            "Epoch 30/30\n",
            "100/100 [==============================] - 19s 193ms/step - loss: 0.0984 - acc: 0.9605 - val_loss: 0.2852 - val_acc: 0.9600\n"
          ],
          "name": "stdout"
        }
      ]
    },
    {
      "cell_type": "markdown",
      "metadata": {
        "id": "Jm4xVJNgL_Nn",
        "colab_type": "text"
      },
      "source": [
        "#Display learning curves during fine-tuning"
      ]
    },
    {
      "cell_type": "code",
      "metadata": {
        "id": "Oy3Dq6HITXW1",
        "colab_type": "code",
        "outputId": "98ccfd46-adc5-48dc-8977-9ac52e3a2790",
        "colab": {
          "base_uri": "https://localhost:8080/",
          "height": 545
        }
      },
      "source": [
        "%matplotlib inline\n",
        "\n",
        "import matplotlib.pyplot as plt\n",
        "\n",
        "acc = history.history['acc']\n",
        "val_acc = history.history['val_acc']\n",
        "\n",
        "loss = history.history['loss']\n",
        "val_loss = history.history['val_loss']\n",
        "\n",
        "epochs = range(1, len(acc) + 1)\n",
        "\n",
        "# training and validation accuracy\n",
        "\n",
        "plt.plot(epochs, acc, 'bo', label='training acc')\n",
        "plt.plot(epochs, val_acc, 'b', label='validation acc')\n",
        "plt.title('training and validation accuracy')\n",
        "plt.legend()\n",
        "\n",
        "plt.figure()\n",
        "\n",
        "# training and validation loss\n",
        "\n",
        "plt.plot(epochs, loss, 'bo', label='training loss')\n",
        "plt.plot(epochs, val_loss, 'b', label='validation loss')\n",
        "plt.title('training and validation loss')\n",
        "plt.legend()\n",
        "\n",
        "plt.show()"
      ],
      "execution_count": 16,
      "outputs": [
        {
          "output_type": "display_data",
          "data": {
            "image/png": "[encoded data removed]",
            "text/plain": [
              "<Figure size 432x288 with 1 Axes>"
            ]
          },
          "metadata": {
            "tags": [],
            "needs_background": "light"
          }
        },
        {
          "output_type": "display_data",
          "data": {
            "image/png": "[encoded data removed]",
            "text/plain": [
              "<Figure size 432x288 with 1 Axes>"
            ]
          },
          "metadata": {
            "tags": [],
            "needs_background": "light"
          }
        }
      ]
    },
    {
      "cell_type": "markdown",
      "metadata": {
        "id": "3YDEhJePMoHX",
        "colab_type": "text"
      },
      "source": [
        "the validation loss fluctuating, probably caused by high learning rate, The accuracy have a definite increase compare to before fine tuning. seems like average about 96% while the old one is about 90%"
      ]
    },
    {
      "cell_type": "markdown",
      "metadata": {
        "id": "pwDUr5DtMIAm",
        "colab_type": "text"
      },
      "source": [
        "#Print out validation loss and accuracy "
      ]
    },
    {
      "cell_type": "code",
      "metadata": {
        "id": "vzEDSGHeTZQ9",
        "colab_type": "code",
        "colab": {}
      },
      "source": [
        "val_loss, val_acc = model.evaluate_generator(validation_generator, steps=50)"
      ],
      "execution_count": 0,
      "outputs": []
    },
    {
      "cell_type": "code",
      "metadata": {
        "id": "hfMstyVOTbDV",
        "colab_type": "code",
        "outputId": "3416e115-1aa9-47c0-8c63-3d4ea5ff4ede",
        "colab": {
          "base_uri": "https://localhost:8080/",
          "height": 50
        }
      },
      "source": [
        "print(\"Validation loss:\", val_loss)\n",
        "print(\"Validation accuracy:\", val_acc)"
      ],
      "execution_count": 18,
      "outputs": [
        {
          "output_type": "stream",
          "text": [
            "Validation loss: 0.11388120800256729\n",
            "Validation accuracy: 0.9599999785423279\n"
          ],
          "name": "stdout"
        }
      ]
    },
    {
      "cell_type": "markdown",
      "metadata": {
        "id": "IDo6vjmwM3L-",
        "colab_type": "text"
      },
      "source": [
        "#Save the model"
      ]
    },
    {
      "cell_type": "code",
      "metadata": {
        "id": "4WH3dNwXTcxV",
        "colab_type": "code",
        "colab": {
          "base_uri": "https://localhost:8080/",
          "height": 70
        },
        "outputId": "01c4bbab-9d9c-482e-c05c-4c5d8b814a32"
      },
      "source": [
        "model_fname = 'cats_and_dogs_small_4.h5' \n",
        "model.save(model_fname)"
      ],
      "execution_count": 19,
      "outputs": [
        {
          "output_type": "stream",
          "text": [
            "/usr/local/lib/python3.6/dist-packages/keras/engine/saving.py:165: UserWarning: TensorFlow optimizers do not make it possible to access optimizer attributes or optimizer state after instantiation. As a result, we cannot save the optimizer as part of the model save file.You will have to compile your model again after loading it. Prefer using a Keras optimizer instead (see keras.io/optimizers).\n",
            "  'TensorFlow optimizers do not '\n"
          ],
          "name": "stderr"
        }
      ]
    }
  ]
}