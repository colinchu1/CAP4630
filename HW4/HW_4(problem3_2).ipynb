{
  "nbformat": 4,
  "nbformat_minor": 0,
  "metadata": {
    "colab": {
      "name": "HW_4(problem3-2).ipynb",
      "provenance": [],
      "collapsed_sections": [],
      "authorship_tag": "ABX9TyPtU5q62dh7OMn9Fu6daktp",
      "include_colab_link": true
    },
    "kernelspec": {
      "name": "python3",
      "display_name": "Python 3"
    },
    "accelerator": "GPU"
  },
  "cells": [
    {
      "cell_type": "markdown",
      "metadata": {
        "id": "view-in-github",
        "colab_type": "text"
      },
      "source": [
        "<a href=\"https://colab.research.google.com/github/colinchu1/CAP4630/blob/master/HW4/HW_4(problem3_2).ipynb\" target=\"_parent\"><img src=\"https://colab.research.google.com/assets/colab-badge.svg\" alt=\"Open In Colab\"/></a>"
      ]
    },
    {
      "cell_type": "markdown",
      "metadata": {
        "id": "jiNEosJAJ4yi",
        "colab_type": "text"
      },
      "source": [
        "You will adapt the notebook using VGG16 conv base for feature extraction, using data augmentation, not using dropout, fine-tuning. You will have to replace the VGG16 conv base by new conv bases. You should not use VGG19.\n",
        "\n",
        "You should create two notebooks. Both should use the same conv base, unfreeze the same number of layers of the conv_base, but use different classifiers."
      ]
    },
    {
      "cell_type": "markdown",
      "metadata": {
        "id": "_c_FauBrKPCv",
        "colab_type": "text"
      },
      "source": [
        "##Download Data\n",
        "Download the example data, a zip. of 2,000 JPG pictures of cats and dogs and extract it locally in /tmp."
      ]
    },
    {
      "cell_type": "code",
      "metadata": {
        "id": "3M-HIr-LEh8Y",
        "colab_type": "code",
        "outputId": "93060a8a-c95c-4218-ad67-be808619ea5c",
        "colab": {
          "base_uri": "https://localhost:8080/",
          "height": 202
        }
      },
      "source": [
        "!wget --no-check-certificate \\\n",
        "    https://storage.googleapis.com/mledu-datasets/cats_and_dogs_filtered.zip \\\n",
        "    -O /tmp/cats_and_dogs_filtered.zip"
      ],
      "execution_count": 1,
      "outputs": [
        {
          "output_type": "stream",
          "text": [
            "--2020-04-19 20:22:23--  https://storage.googleapis.com/mledu-datasets/cats_and_dogs_filtered.zip\n",
            "Resolving storage.googleapis.com (storage.googleapis.com)... 172.253.117.128, 2607:f8b0:400e:c02::80\n",
            "Connecting to storage.googleapis.com (storage.googleapis.com)|172.253.117.128|:443... connected.\n",
            "HTTP request sent, awaiting response... 200 OK\n",
            "Length: 68606236 (65M) [application/zip]\n",
            "Saving to: ‘/tmp/cats_and_dogs_filtered.zip’\n",
            "\n",
            "/tmp/cats_and_dogs_ 100%[===================>]  65.43M   125MB/s    in 0.5s    \n",
            "\n",
            "2020-04-19 20:22:23 (125 MB/s) - ‘/tmp/cats_and_dogs_filtered.zip’ saved [68606236/68606236]\n",
            "\n"
          ],
          "name": "stdout"
        }
      ]
    },
    {
      "cell_type": "code",
      "metadata": {
        "id": "lp4ymG2YEqPA",
        "colab_type": "code",
        "colab": {}
      },
      "source": [
        "import os\n",
        "import zipfile\n",
        "\n",
        "local_zip = '/tmp/cats_and_dogs_filtered.zip'\n",
        "zip_ref = zipfile.ZipFile(local_zip, 'r')\n",
        "zip_ref.extractall('/tmp')\n",
        "zip_ref.close()"
      ],
      "execution_count": 0,
      "outputs": []
    },
    {
      "cell_type": "markdown",
      "metadata": {
        "id": "ng1AIWEjKbi-",
        "colab_type": "text"
      },
      "source": [
        "Note that the data provided by Google does not have a test set."
      ]
    },
    {
      "cell_type": "code",
      "metadata": {
        "id": "MglltVbyEsIv",
        "colab_type": "code",
        "colab": {}
      },
      "source": [
        "base_dir = '/tmp/cats_and_dogs_filtered'\n",
        "train_dir = os.path.join(base_dir, 'train')\n",
        "validation_dir = os.path.join(base_dir, 'validation')\n",
        "\n",
        "# Directory with our training cat pictures\n",
        "train_cats_dir = os.path.join(train_dir, 'cats')\n",
        "\n",
        "# Directory with our training dog pictures\n",
        "train_dogs_dir = os.path.join(train_dir, 'dogs')\n",
        "\n",
        "# Directory with our validation cat pictures\n",
        "validation_cats_dir = os.path.join(validation_dir, 'cats')\n",
        "\n",
        "# Directory with our validation dog pictures\n",
        "validation_dogs_dir = os.path.join(validation_dir, 'dogs')"
      ],
      "execution_count": 0,
      "outputs": []
    },
    {
      "cell_type": "markdown",
      "metadata": {
        "id": "06pWz0dgKhsA",
        "colab_type": "text"
      },
      "source": [
        "##Build network with MobileNetV2 convolution base and custom densely connected layers"
      ]
    },
    {
      "cell_type": "markdown",
      "metadata": {
        "id": "cbdfMTzsKujG",
        "colab_type": "text"
      },
      "source": [
        "###Load the convolutional base"
      ]
    },
    {
      "cell_type": "code",
      "metadata": {
        "id": "jNFZL4FbEt8e",
        "colab_type": "code",
        "outputId": "3bcfd299-321d-4360-a138-1c1fe9c12e2a",
        "colab": {
          "base_uri": "https://localhost:8080/",
          "height": 104
        }
      },
      "source": [
        "from keras.applications import MobileNetV2\n",
        "\n",
        "conv_base = MobileNetV2(\n",
        "    weights='imagenet', \n",
        "    include_top=False, \n",
        "    input_shape=(150, 150, 3))"
      ],
      "execution_count": 5,
      "outputs": [
        {
          "output_type": "stream",
          "text": [
            "/usr/local/lib/python3.6/dist-packages/keras_applications/mobilenet_v2.py:294: UserWarning: `input_shape` is undefined or non-square, or `rows` is not in [96, 128, 160, 192, 224]. Weights for input shape (224, 224) will be loaded as the default.\n",
            "  warnings.warn('`input_shape` is undefined or non-square, '\n"
          ],
          "name": "stderr"
        },
        {
          "output_type": "stream",
          "text": [
            "Downloading data from https://github.com/JonathanCMitchell/mobilenet_v2_keras/releases/download/v1.1/mobilenet_v2_weights_tf_dim_ordering_tf_kernels_1.0_224_no_top.h5\n",
            "9412608/9406464 [==============================] - 1s 0us/step\n"
          ],
          "name": "stdout"
        }
      ]
    },
    {
      "cell_type": "markdown",
      "metadata": {
        "id": "WYbpt2aeK1Ue",
        "colab_type": "text"
      },
      "source": [
        "###Freeze the convolutional base"
      ]
    },
    {
      "cell_type": "code",
      "metadata": {
        "id": "LUe7XNbDEvSu",
        "colab_type": "code",
        "colab": {}
      },
      "source": [
        "conv_base.trainable = False"
      ],
      "execution_count": 0,
      "outputs": []
    },
    {
      "cell_type": "markdown",
      "metadata": {
        "id": "yxT-SpsLK5W2",
        "colab_type": "text"
      },
      "source": [
        "###Concatenate the convolutional base and densely connected layers"
      ]
    },
    {
      "cell_type": "code",
      "metadata": {
        "id": "5yFbQxmaEztW",
        "colab_type": "code",
        "colab": {}
      },
      "source": [
        "from keras import layers\n",
        "from keras import models\n",
        "from keras import optimizers\n",
        "\n",
        "model = models.Sequential()\n",
        "model.add(conv_base)\n",
        "model.add(layers.Flatten())\n",
        "model.add(layers.Dense(256, activation='relu'))\n",
        "model.add(layers.Dropout(0.1))\n",
        "model.add(layers.Dense(2, activation='softmax'))"
      ],
      "execution_count": 0,
      "outputs": []
    },
    {
      "cell_type": "code",
      "metadata": {
        "id": "POnR3KnkE1N2",
        "colab_type": "code",
        "outputId": "5ee90fc0-ed82-4e95-814d-565e8d5796cb",
        "colab": {
          "base_uri": "https://localhost:8080/",
          "height": 319
        }
      },
      "source": [
        "model.summary()"
      ],
      "execution_count": 12,
      "outputs": [
        {
          "output_type": "stream",
          "text": [
            "Model: \"sequential_2\"\n",
            "_________________________________________________________________\n",
            "Layer (type)                 Output Shape              Param #   \n",
            "=================================================================\n",
            "mobilenetv2_1.00_224 (Model) (None, 5, 5, 1280)        2257984   \n",
            "_________________________________________________________________\n",
            "flatten_2 (Flatten)          (None, 32000)             0         \n",
            "_________________________________________________________________\n",
            "dense_3 (Dense)              (None, 256)               8192256   \n",
            "_________________________________________________________________\n",
            "dropout_2 (Dropout)          (None, 256)               0         \n",
            "_________________________________________________________________\n",
            "dense_4 (Dense)              (None, 2)                 514       \n",
            "=================================================================\n",
            "Total params: 10,450,754\n",
            "Trainable params: 8,192,770\n",
            "Non-trainable params: 2,257,984\n",
            "_________________________________________________________________\n"
          ],
          "name": "stdout"
        }
      ]
    },
    {
      "cell_type": "markdown",
      "metadata": {
        "id": "LiFwaap1LHXO",
        "colab_type": "text"
      },
      "source": [
        "#Train the model end to end with frozen convolutional base"
      ]
    },
    {
      "cell_type": "markdown",
      "metadata": {
        "id": "fnEtkCWfLuXW",
        "colab_type": "text"
      },
      "source": [
        "This note book will be using categorical classifier instead of binary\n",
        "\n"
      ]
    },
    {
      "cell_type": "code",
      "metadata": {
        "id": "lkIHa3GiE9SP",
        "colab_type": "code",
        "outputId": "feec695f-9333-45e0-89fc-5ae29e21b409",
        "colab": {
          "base_uri": "https://localhost:8080/",
          "height": 50
        }
      },
      "source": [
        "from tensorflow.keras.preprocessing.image import ImageDataGenerator\n",
        "from tensorflow.keras import optimizers\n",
        "\n",
        "# data augmentation\n",
        "\n",
        "train_datagen = ImageDataGenerator(\n",
        "    rescale=1./255, \n",
        "    rotation_range=40,\n",
        "    width_shift_range=0.2,\n",
        "    height_shift_range=0.2,\n",
        "    shear_range=0.2,\n",
        "    zoom_range=0.2,\n",
        "    horizontal_flip=True,\n",
        "    fill_mode='nearest'\n",
        ")\n",
        "\n",
        "train_generator = train_datagen.flow_from_directory(\n",
        "    train_dir,\n",
        "    target_size=(150, 150),\n",
        "    batch_size=20,\n",
        "    class_mode='categorical')\n",
        "\n",
        "validation_datagen = ImageDataGenerator(rescale=1./255)\n",
        "\n",
        "validation_generator = validation_datagen.flow_from_directory(\n",
        "    validation_dir,\n",
        "    target_size=(150, 150),\n",
        "    batch_size=20,\n",
        "    class_mode='categorical')"
      ],
      "execution_count": 13,
      "outputs": [
        {
          "output_type": "stream",
          "text": [
            "Found 2000 images belonging to 2 classes.\n",
            "Found 1000 images belonging to 2 classes.\n"
          ],
          "name": "stdout"
        }
      ]
    },
    {
      "cell_type": "code",
      "metadata": {
        "id": "1zzfCKEIHP8D",
        "colab_type": "code",
        "colab": {
          "base_uri": "https://localhost:8080/",
          "height": 1000
        },
        "outputId": "d8f11c91-95a2-4c50-ab41-21350a7e6e82"
      },
      "source": [
        "# compile model\n",
        "\n",
        "model.compile(\n",
        "    loss='categorical_crossentropy', \n",
        "    optimizer=optimizers.RMSprop(lr=2e-5), \n",
        "    metrics=['acc'])\n",
        "\n",
        "# train\n",
        "\n",
        "history = model.fit(\n",
        "    train_generator,\n",
        "    steps_per_epoch=100,\n",
        "    epochs=30,\n",
        "    validation_data=validation_generator,\n",
        "    validation_steps=50\n",
        ")"
      ],
      "execution_count": 14,
      "outputs": [
        {
          "output_type": "stream",
          "text": [
            "Epoch 1/30\n",
            "100/100 [==============================] - 26s 257ms/step - loss: 0.4959 - acc: 0.7965 - val_loss: 0.1569 - val_acc: 0.9360\n",
            "Epoch 2/30\n",
            "100/100 [==============================] - 17s 170ms/step - loss: 0.3695 - acc: 0.8515 - val_loss: 0.3240 - val_acc: 0.9060\n",
            "Epoch 3/30\n",
            "100/100 [==============================] - 17s 168ms/step - loss: 0.3283 - acc: 0.8635 - val_loss: 0.3586 - val_acc: 0.8510\n",
            "Epoch 4/30\n",
            "100/100 [==============================] - 17s 166ms/step - loss: 0.2923 - acc: 0.8760 - val_loss: 0.3472 - val_acc: 0.9120\n",
            "Epoch 5/30\n",
            "100/100 [==============================] - 17s 167ms/step - loss: 0.2856 - acc: 0.8845 - val_loss: 0.2851 - val_acc: 0.8820\n",
            "Epoch 6/30\n",
            "100/100 [==============================] - 17s 168ms/step - loss: 0.2816 - acc: 0.8790 - val_loss: 0.0088 - val_acc: 0.9090\n",
            "Epoch 7/30\n",
            "100/100 [==============================] - 17s 170ms/step - loss: 0.2685 - acc: 0.8870 - val_loss: 0.0137 - val_acc: 0.9290\n",
            "Epoch 8/30\n",
            "100/100 [==============================] - 17s 166ms/step - loss: 0.2606 - acc: 0.9005 - val_loss: 0.0080 - val_acc: 0.9240\n",
            "Epoch 9/30\n",
            "100/100 [==============================] - 17s 169ms/step - loss: 0.2307 - acc: 0.9140 - val_loss: 0.6094 - val_acc: 0.9150\n",
            "Epoch 10/30\n",
            "100/100 [==============================] - 17s 168ms/step - loss: 0.2551 - acc: 0.8995 - val_loss: 0.1583 - val_acc: 0.9370\n",
            "Epoch 11/30\n",
            "100/100 [==============================] - 17s 168ms/step - loss: 0.2694 - acc: 0.8860 - val_loss: 1.1268 - val_acc: 0.8560\n",
            "Epoch 12/30\n",
            "100/100 [==============================] - 17s 169ms/step - loss: 0.2273 - acc: 0.9130 - val_loss: 0.6418 - val_acc: 0.9190\n",
            "Epoch 13/30\n",
            "100/100 [==============================] - 17s 167ms/step - loss: 0.2401 - acc: 0.9060 - val_loss: 0.0772 - val_acc: 0.8930\n",
            "Epoch 14/30\n",
            "100/100 [==============================] - 17s 169ms/step - loss: 0.2350 - acc: 0.9045 - val_loss: 3.3084e-04 - val_acc: 0.9340\n",
            "Epoch 15/30\n",
            "100/100 [==============================] - 17s 167ms/step - loss: 0.2291 - acc: 0.9080 - val_loss: 0.2691 - val_acc: 0.9360\n",
            "Epoch 16/30\n",
            "100/100 [==============================] - 18s 175ms/step - loss: 0.1967 - acc: 0.9160 - val_loss: 0.2507 - val_acc: 0.9330\n",
            "Epoch 17/30\n",
            "100/100 [==============================] - 18s 181ms/step - loss: 0.2132 - acc: 0.9200 - val_loss: 0.1000 - val_acc: 0.9070\n",
            "Epoch 18/30\n",
            "100/100 [==============================] - 17s 173ms/step - loss: 0.2165 - acc: 0.9190 - val_loss: 0.7240 - val_acc: 0.9380\n",
            "Epoch 19/30\n",
            "100/100 [==============================] - 17s 171ms/step - loss: 0.2172 - acc: 0.9160 - val_loss: 0.4200 - val_acc: 0.8980\n",
            "Epoch 20/30\n",
            "100/100 [==============================] - 17s 171ms/step - loss: 0.2037 - acc: 0.9100 - val_loss: 3.7583e-05 - val_acc: 0.9230\n",
            "Epoch 21/30\n",
            "100/100 [==============================] - 17s 172ms/step - loss: 0.2168 - acc: 0.9210 - val_loss: 0.5006 - val_acc: 0.9160\n",
            "Epoch 22/30\n",
            "100/100 [==============================] - 17s 171ms/step - loss: 0.2026 - acc: 0.9140 - val_loss: 0.7633 - val_acc: 0.9070\n",
            "Epoch 23/30\n",
            "100/100 [==============================] - 17s 172ms/step - loss: 0.2071 - acc: 0.9230 - val_loss: 0.4417 - val_acc: 0.8850\n",
            "Epoch 24/30\n",
            "100/100 [==============================] - 17s 173ms/step - loss: 0.2088 - acc: 0.9190 - val_loss: 0.3763 - val_acc: 0.8970\n",
            "Epoch 25/30\n",
            "100/100 [==============================] - 17s 174ms/step - loss: 0.2169 - acc: 0.9140 - val_loss: 0.2470 - val_acc: 0.8950\n",
            "Epoch 26/30\n",
            "100/100 [==============================] - 18s 177ms/step - loss: 0.2096 - acc: 0.9170 - val_loss: 1.4928 - val_acc: 0.9340\n",
            "Epoch 27/30\n",
            "100/100 [==============================] - 18s 175ms/step - loss: 0.1827 - acc: 0.9250 - val_loss: 4.9765e-04 - val_acc: 0.9000\n",
            "Epoch 28/30\n",
            "100/100 [==============================] - 17s 174ms/step - loss: 0.1709 - acc: 0.9350 - val_loss: 0.0590 - val_acc: 0.9170\n",
            "Epoch 29/30\n",
            "100/100 [==============================] - 17s 170ms/step - loss: 0.1829 - acc: 0.9270 - val_loss: 0.0024 - val_acc: 0.9080\n",
            "Epoch 30/30\n",
            "100/100 [==============================] - 17s 172ms/step - loss: 0.1955 - acc: 0.9205 - val_loss: 0.3379 - val_acc: 0.9160\n"
          ],
          "name": "stdout"
        }
      ]
    },
    {
      "cell_type": "markdown",
      "metadata": {
        "id": "7EbZcwwKLOLe",
        "colab_type": "text"
      },
      "source": [
        "#Display curves of loss and accuracy during training"
      ]
    },
    {
      "cell_type": "code",
      "metadata": {
        "id": "P6TZOcN0TQ6t",
        "colab_type": "code",
        "colab": {
          "base_uri": "https://localhost:8080/",
          "height": 545
        },
        "outputId": "47efc2a7-4b2c-4baf-ee49-76fccd804ce5"
      },
      "source": [
        "%matplotlib inline\n",
        "\n",
        "import matplotlib.pyplot as plt\n",
        "\n",
        "acc = history.history['acc']\n",
        "val_acc = history.history['val_acc']\n",
        "\n",
        "loss = history.history['loss']\n",
        "val_loss = history.history['val_loss']\n",
        "\n",
        "epochs = range(1, len(acc) + 1)\n",
        "\n",
        "# training and validation accuracy\n",
        "\n",
        "plt.plot(epochs, acc, 'bo', label='training acc')\n",
        "plt.plot(epochs, val_acc, 'b', label='validation acc')\n",
        "plt.title('training and validation accuracy')\n",
        "plt.legend()\n",
        "\n",
        "plt.figure()\n",
        "\n",
        "# training and validation loss\n",
        "\n",
        "plt.plot(epochs, loss, 'bo', label='training loss')\n",
        "plt.plot(epochs, val_loss, 'b', label='validation loss')\n",
        "plt.title('training and validation loss')\n",
        "plt.legend()\n",
        "\n",
        "plt.show()"
      ],
      "execution_count": 15,
      "outputs": [
        {
          "output_type": "display_data",
          "data": {
            "image/png": "[encoded data removed]",
            "text/plain": [
              "<Figure size 432x288 with 1 Axes>"
            ]
          },
          "metadata": {
            "tags": [],
            "needs_background": "light"
          }
        },
        {
          "output_type": "display_data",
          "data": {
            "image/png": "[encoded data removed]",
            "text/plain": [
              "<Figure size 432x288 with 1 Axes>"
            ]
          },
          "metadata": {
            "tags": [],
            "needs_background": "light"
          }
        }
      ]
    },
    {
      "cell_type": "markdown",
      "metadata": {
        "id": "bPbUmGe-LSrp",
        "colab_type": "text"
      },
      "source": [
        "#Fine-tuning\n",
        "### I chose to unfreeze block_5_expand in mobilenetV2"
      ]
    },
    {
      "cell_type": "code",
      "metadata": {
        "id": "4wqw90I8TQ0Q",
        "colab_type": "code",
        "colab": {}
      },
      "source": [
        "conv_base.trainable = True\n",
        "\n",
        "set_trainable = False\n",
        "for layer in conv_base.layers:\n",
        "  if layer.name == 'block_5_expand':\n",
        "    set_trainable = True\n",
        "  if set_trainable:\n",
        "    layer.trainable = True\n",
        "  else:\n",
        "    layer.trainable = False"
      ],
      "execution_count": 0,
      "outputs": []
    },
    {
      "cell_type": "code",
      "metadata": {
        "id": "_fmz8YHMTUou",
        "colab_type": "code",
        "colab": {
          "base_uri": "https://localhost:8080/",
          "height": 1000
        },
        "outputId": "06b5751d-3710-4839-b6c0-18aa33a3fafe"
      },
      "source": [
        "# compile model\n",
        "\n",
        "model.compile(\n",
        "    loss='categorical_crossentropy',\n",
        "    #\n",
        "    # choose a smaller learning rate\n",
        "    #\n",
        "    optimizer=optimizers.RMSprop(lr=1e-5), \n",
        "    metrics=['acc'])\n",
        "\n",
        "# train\n",
        "\n",
        "history = model.fit_generator(\n",
        "    train_generator,\n",
        "    steps_per_epoch=100,\n",
        "    epochs=30,\n",
        "    validation_data=validation_generator,\n",
        "    validation_steps=50)"
      ],
      "execution_count": 17,
      "outputs": [
        {
          "output_type": "stream",
          "text": [
            "Epoch 1/30\n",
            "100/100 [==============================] - 28s 280ms/step - loss: 0.1864 - acc: 0.9310 - val_loss: 0.2905 - val_acc: 0.8940\n",
            "Epoch 2/30\n",
            "100/100 [==============================] - 20s 198ms/step - loss: 0.1927 - acc: 0.9320 - val_loss: 0.1113 - val_acc: 0.9470\n",
            "Epoch 3/30\n",
            "100/100 [==============================] - 20s 201ms/step - loss: 0.1512 - acc: 0.9415 - val_loss: 0.3447 - val_acc: 0.9210\n",
            "Epoch 4/30\n",
            "100/100 [==============================] - 20s 199ms/step - loss: 0.1559 - acc: 0.9405 - val_loss: 0.0168 - val_acc: 0.9570\n",
            "Epoch 5/30\n",
            "100/100 [==============================] - 19s 194ms/step - loss: 0.1562 - acc: 0.9390 - val_loss: 0.5451 - val_acc: 0.9580\n",
            "Epoch 6/30\n",
            "100/100 [==============================] - 20s 196ms/step - loss: 0.1468 - acc: 0.9460 - val_loss: 0.0283 - val_acc: 0.9540\n",
            "Epoch 7/30\n",
            "100/100 [==============================] - 20s 198ms/step - loss: 0.1362 - acc: 0.9450 - val_loss: 0.2081 - val_acc: 0.9600\n",
            "Epoch 8/30\n",
            "100/100 [==============================] - 20s 199ms/step - loss: 0.1552 - acc: 0.9435 - val_loss: 0.0062 - val_acc: 0.9630\n",
            "Epoch 9/30\n",
            "100/100 [==============================] - 20s 200ms/step - loss: 0.1528 - acc: 0.9440 - val_loss: 0.4924 - val_acc: 0.9610\n",
            "Epoch 10/30\n",
            "100/100 [==============================] - 20s 199ms/step - loss: 0.1495 - acc: 0.9425 - val_loss: 0.0457 - val_acc: 0.9640\n",
            "Epoch 11/30\n",
            "100/100 [==============================] - 20s 202ms/step - loss: 0.1478 - acc: 0.9405 - val_loss: 0.1596 - val_acc: 0.9570\n",
            "Epoch 12/30\n",
            "100/100 [==============================] - 20s 198ms/step - loss: 0.1327 - acc: 0.9475 - val_loss: 0.1365 - val_acc: 0.9570\n",
            "Epoch 13/30\n",
            "100/100 [==============================] - 19s 194ms/step - loss: 0.0998 - acc: 0.9580 - val_loss: 0.1139 - val_acc: 0.9590\n",
            "Epoch 14/30\n",
            "100/100 [==============================] - 20s 197ms/step - loss: 0.1199 - acc: 0.9535 - val_loss: 6.1329e-04 - val_acc: 0.9600\n",
            "Epoch 15/30\n",
            "100/100 [==============================] - 20s 198ms/step - loss: 0.0960 - acc: 0.9655 - val_loss: 0.4130 - val_acc: 0.9590\n",
            "Epoch 16/30\n",
            "100/100 [==============================] - 20s 198ms/step - loss: 0.1152 - acc: 0.9550 - val_loss: 0.2439 - val_acc: 0.9560\n",
            "Epoch 17/30\n",
            "100/100 [==============================] - 20s 199ms/step - loss: 0.0973 - acc: 0.9670 - val_loss: 3.9509e-05 - val_acc: 0.9610\n",
            "Epoch 18/30\n",
            "100/100 [==============================] - 20s 200ms/step - loss: 0.0973 - acc: 0.9630 - val_loss: 0.2702 - val_acc: 0.9520\n",
            "Epoch 19/30\n",
            "100/100 [==============================] - 20s 202ms/step - loss: 0.1130 - acc: 0.9590 - val_loss: 0.1020 - val_acc: 0.9590\n",
            "Epoch 20/30\n",
            "100/100 [==============================] - 20s 201ms/step - loss: 0.1084 - acc: 0.9625 - val_loss: 0.1421 - val_acc: 0.9520\n",
            "Epoch 21/30\n",
            "100/100 [==============================] - 20s 198ms/step - loss: 0.1158 - acc: 0.9530 - val_loss: 0.2336 - val_acc: 0.9500\n",
            "Epoch 22/30\n",
            "100/100 [==============================] - 20s 196ms/step - loss: 0.1045 - acc: 0.9590 - val_loss: 0.0030 - val_acc: 0.9540\n",
            "Epoch 23/30\n",
            "100/100 [==============================] - 20s 197ms/step - loss: 0.1232 - acc: 0.9525 - val_loss: 0.0550 - val_acc: 0.9510\n",
            "Epoch 24/30\n",
            "100/100 [==============================] - 20s 201ms/step - loss: 0.0960 - acc: 0.9650 - val_loss: 0.4474 - val_acc: 0.9480\n",
            "Epoch 25/30\n",
            "100/100 [==============================] - 20s 200ms/step - loss: 0.1085 - acc: 0.9605 - val_loss: 0.2551 - val_acc: 0.9410\n",
            "Epoch 26/30\n",
            "100/100 [==============================] - 20s 199ms/step - loss: 0.1207 - acc: 0.9550 - val_loss: 0.0917 - val_acc: 0.9540\n",
            "Epoch 27/30\n",
            "100/100 [==============================] - 20s 197ms/step - loss: 0.0914 - acc: 0.9670 - val_loss: 0.2373 - val_acc: 0.9560\n",
            "Epoch 28/30\n",
            "100/100 [==============================] - 20s 198ms/step - loss: 0.0865 - acc: 0.9685 - val_loss: 0.0732 - val_acc: 0.9540\n",
            "Epoch 29/30\n",
            "100/100 [==============================] - 20s 196ms/step - loss: 0.0848 - acc: 0.9625 - val_loss: 0.4881 - val_acc: 0.9530\n",
            "Epoch 30/30\n",
            "100/100 [==============================] - 20s 200ms/step - loss: 0.0904 - acc: 0.9695 - val_loss: 0.1228 - val_acc: 0.9490\n"
          ],
          "name": "stdout"
        }
      ]
    },
    {
      "cell_type": "markdown",
      "metadata": {
        "id": "Jm4xVJNgL_Nn",
        "colab_type": "text"
      },
      "source": [
        "#Display learning curves during fine-tuning"
      ]
    },
    {
      "cell_type": "code",
      "metadata": {
        "id": "Oy3Dq6HITXW1",
        "colab_type": "code",
        "colab": {
          "base_uri": "https://localhost:8080/",
          "height": 545
        },
        "outputId": "ef90fef0-cf82-4027-a201-b64b661d18f8"
      },
      "source": [
        "%matplotlib inline\n",
        "\n",
        "import matplotlib.pyplot as plt\n",
        "\n",
        "acc = history.history['acc']\n",
        "val_acc = history.history['val_acc']\n",
        "\n",
        "loss = history.history['loss']\n",
        "val_loss = history.history['val_loss']\n",
        "\n",
        "epochs = range(1, len(acc) + 1)\n",
        "\n",
        "# training and validation accuracy\n",
        "\n",
        "plt.plot(epochs, acc, 'bo', label='training acc')\n",
        "plt.plot(epochs, val_acc, 'b', label='validation acc')\n",
        "plt.title('training and validation accuracy')\n",
        "plt.legend()\n",
        "\n",
        "plt.figure()\n",
        "\n",
        "# training and validation loss\n",
        "\n",
        "plt.plot(epochs, loss, 'bo', label='training loss')\n",
        "plt.plot(epochs, val_loss, 'b', label='validation loss')\n",
        "plt.title('training and validation loss')\n",
        "plt.legend()\n",
        "\n",
        "plt.show()"
      ],
      "execution_count": 18,
      "outputs": [
        {
          "output_type": "display_data",
          "data": {
            "image/png": "[encoded data removed]",
            "text/plain": [
              "<Figure size 432x288 with 1 Axes>"
            ]
          },
          "metadata": {
            "tags": [],
            "needs_background": "light"
          }
        },
        {
          "output_type": "display_data",
          "data": {
            "image/png": "[encoded data removed]",
            "text/plain": [
              "<Figure size 432x288 with 1 Axes>"
            ]
          },
          "metadata": {
            "tags": [],
            "needs_background": "light"
          }
        }
      ]
    },
    {
      "cell_type": "markdown",
      "metadata": {
        "id": "3YDEhJePMoHX",
        "colab_type": "text"
      },
      "source": [
        "the validation loss fluctuating, probably caused by high learning rate"
      ]
    },
    {
      "cell_type": "markdown",
      "metadata": {
        "id": "pwDUr5DtMIAm",
        "colab_type": "text"
      },
      "source": [
        "#Print out validation loss and accuracy "
      ]
    },
    {
      "cell_type": "code",
      "metadata": {
        "id": "vzEDSGHeTZQ9",
        "colab_type": "code",
        "colab": {}
      },
      "source": [
        "val_loss, val_acc = model.evaluate_generator(validation_generator, steps=50)"
      ],
      "execution_count": 0,
      "outputs": []
    },
    {
      "cell_type": "code",
      "metadata": {
        "id": "hfMstyVOTbDV",
        "colab_type": "code",
        "colab": {
          "base_uri": "https://localhost:8080/",
          "height": 50
        },
        "outputId": "d99512b5-1fd6-4363-a263-b8f805fc932c"
      },
      "source": [
        "print(\"Validation loss:\", val_loss)\n",
        "print(\"Validation accuracy:\", val_acc)"
      ],
      "execution_count": 20,
      "outputs": [
        {
          "output_type": "stream",
          "text": [
            "Validation loss: 0.12278135120868683\n",
            "Validation accuracy: 0.9490000009536743\n"
          ],
          "name": "stdout"
        }
      ]
    },
    {
      "cell_type": "markdown",
      "metadata": {
        "id": "IDo6vjmwM3L-",
        "colab_type": "text"
      },
      "source": [
        "#Save the model"
      ]
    },
    {
      "cell_type": "code",
      "metadata": {
        "id": "4WH3dNwXTcxV",
        "colab_type": "code",
        "colab": {}
      },
      "source": [
        "model_fname = 'cats_and_dogs_small_4.h5' \n",
        "model.save(model_fname)"
      ],
      "execution_count": 0,
      "outputs": []
    }
  ]
}