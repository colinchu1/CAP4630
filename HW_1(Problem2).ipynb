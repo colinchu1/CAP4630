{
  "nbformat": 4,
  "nbformat_minor": 0,
  "metadata": {
    "colab": {
      "name": "HW_1(Problem2).ipynb",
      "provenance": [],
      "authorship_tag": "ABX9TyPYAXf6w2CN9OZ+T0905PQC",
      "include_colab_link": true
    },
    "kernelspec": {
      "name": "python3",
      "display_name": "Python 3"
    }
  },
  "cells": [
    {
      "cell_type": "markdown",
      "metadata": {
        "id": "view-in-github",
        "colab_type": "text"
      },
      "source": [
        "<a href=\"https://colab.research.google.com/github/colinchu1/CAP4630/blob/master/HW_1(Problem2).ipynb\" target=\"_parent\"><img src=\"https://colab.research.google.com/assets/colab-badge.svg\" alt=\"Open In Colab\"/></a>"
      ]
    },
    {
      "cell_type": "markdown",
      "metadata": {
        "id": "xiv7fkln2nBC",
        "colab_type": "text"
      },
      "source": [
        ""
      ]
    }
  ]
}