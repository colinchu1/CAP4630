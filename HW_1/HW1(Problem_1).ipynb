{
  "nbformat": 4,
  "nbformat_minor": 0,
  "metadata": {
    "colab": {
      "name": "HW1(Problem 1).ipynb",
      "provenance": [],
      "authorship_tag": "ABX9TyP49XlOevz7WIRyHxHfWIiO",
      "include_colab_link": true
    },
    "kernelspec": {
      "name": "python3",
      "display_name": "Python 3"
    }
  },
  "cells": [
    {
      "cell_type": "markdown",
      "metadata": {
        "id": "view-in-github",
        "colab_type": "text"
      },
      "source": [
        "<a href=\"https://colab.research.google.com/github/colinchu1/CAP4630/blob/master/HW_1/HW1(Problem_1).ipynb\" target=\"_parent\"><img src=\"https://colab.research.google.com/assets/colab-badge.svg\" alt=\"Open In Colab\"/></a>"
      ]
    },
    {
      "cell_type": "markdown",
      "metadata": {
        "id": "RW953uOlYf1a",
        "colab_type": "text"
      },
      "source": [
        "#PROBLEM 1\n",
        "\n",
        "\n",
        "> Create a GitHub repo with a simple readme file. Enter the link to your repo in Webcourses.\n",
        "\n",
        "\n",
        "\n"
      ]
    }
  ]
}