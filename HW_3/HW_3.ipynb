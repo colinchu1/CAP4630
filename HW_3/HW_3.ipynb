{
  "nbformat": 4,
  "nbformat_minor": 0,
  "metadata": {
    "colab": {
      "name": "HW_3.ipynb",
      "provenance": [],
      "collapsed_sections": [],
      "authorship_tag": "ABX9TyMJ2x3RgX6dz/pHS6vGtSod",
      "include_colab_link": true
    },
    "kernelspec": {
      "name": "python3",
      "display_name": "Python 3"
    }
  },
  "cells": [
    {
      "cell_type": "markdown",
      "metadata": {
        "id": "view-in-github",
        "colab_type": "text"
      },
      "source": [
        "<a href=\"https://colab.research.google.com/github/colinchu1/CAP4630/blob/master/HW_3/HW_3.ipynb\" target=\"_parent\"><img src=\"https://colab.research.google.com/assets/colab-badge.svg\" alt=\"Open In Colab\"/></a>"
      ]
    },
    {
      "cell_type": "markdown",
      "metadata": {
        "id": "UcAAl3uZxFPB",
        "colab_type": "text"
      },
      "source": [
        "#IMPORTS\n",
        "\n"
      ]
    },
    {
      "cell_type": "code",
      "metadata": {
        "id": "WVjx4q7HxNYp",
        "colab_type": "code",
        "colab": {}
      },
      "source": [
        "import random\n",
        "import matplotlib\n",
        "import matplotlib.pyplot as plt\n",
        "import time\n",
        "import numpy as np\n",
        "from sklearn.model_selection import train_test_split"
      ],
      "execution_count": 0,
      "outputs": []
    },
    {
      "cell_type": "markdown",
      "metadata": {
        "id": "m7RUeb6QxRK_",
        "colab_type": "text"
      },
      "source": [
        "#Problem 1 \n",
        "Implement the function get_random_data(w, b, mu, sigma, m) that generates random data for logisitic regression with two features features x_1 and x_2. This function should return the array data of shape (m, 2) and the array labels of shape (m, 1)."
      ]
    },
    {
      "cell_type": "code",
      "metadata": {
        "id": "ax4kYp_NtPm_",
        "colab_type": "code",
        "colab": {}
      },
      "source": [
        "def get_random_data(w, b, mu, sigma, m):\n",
        "  data = [[] for j in range(m)] \n",
        "  labels = []\n",
        "  for x in range (0,m):\n",
        "    c = random.randint(0,1)\n",
        "    x_1 = np.random.uniform()\n",
        "    n = np.random.normal(mu, sigma)\n",
        "    x_2 = w * x_1 + b + (-1)**c * n\n",
        "    data[x].append(x_1)\n",
        "    data[x].append(x_2)\n",
        "    labels.append(c)\n",
        "  return data, labels"
      ],
      "execution_count": 0,
      "outputs": []
    },
    {
      "cell_type": "code",
      "metadata": {
        "id": "FWulGhrpARIr",
        "colab_type": "code",
        "outputId": "fde4883c-248c-4492-935d-34dc066aace7",
        "colab": {
          "base_uri": "https://localhost:8080/",
          "height": 265
        }
      },
      "source": [
        "mu , sigma = 1.5,0.5\n",
        "m = 100\n",
        "w = 2\n",
        "b = 0\n",
        "data, labels = get_random_data(w,b,mu,sigma,m)\n",
        "data = np.array(data)\n",
        "labels = np.array(labels)\n",
        "cdict = {1: 'red', 2: 'blue'}\n",
        "def display_random_data(labels, data):\n",
        "  plt.figure()\n",
        "  #plt.scatter(data[:,0], data[:,1])\n",
        "  for x in range(0,m):\n",
        "    #if label is 0 be blue if 1 be red\n",
        "    if labels[x] == 0:\n",
        "      c = 2\n",
        "    else:\n",
        "      c = 1\n",
        "    plt.scatter(data[x][0], data[x][1], color = cdict[c])\n",
        "  x = np.linspace(0,1,100)\n",
        "  y = w * x + b\n",
        "  #plot the true line\n",
        "  plt.plot(x,y)\n",
        "  plt.show()\n",
        "#display the data\n",
        "display_random_data(labels,data)"
      ],
      "execution_count": 0,
      "outputs": [
        {
          "output_type": "display_data",
          "data": {
            "image/png": "[encoded data removed]",
            "text/plain": [
              "<Figure size 432x288 with 1 Axes>"
            ]
          },
          "metadata": {
            "tags": []
          }
        }
      ]
    },
    {
      "cell_type": "code",
      "metadata": {
        "id": "flENj0COf5O5",
        "colab_type": "code",
        "outputId": "0b206823-181a-4a17-c966-0aae96f14deb",
        "colab": {
          "base_uri": "https://localhost:8080/",
          "height": 52
        }
      },
      "source": [
        "# split the data\n",
        "X_train, X_test, labels_train, labels_test = train_test_split(data, labels, test_size=0.2)\n",
        "#sanity check\n",
        "print (X_train.shape, labels_train.shape)\n",
        "print (X_test.shape, labels_test.shape)"
      ],
      "execution_count": 0,
      "outputs": [
        {
          "output_type": "stream",
          "text": [
            "(80, 2) (80,)\n",
            "(20, 2) (20,)\n"
          ],
          "name": "stdout"
        }
      ]
    },
    {
      "cell_type": "markdown",
      "metadata": {
        "id": "n55C5ii7xeI_",
        "colab_type": "text"
      },
      "source": [
        "#Problem 2\n",
        "Create a Keras to implement logistic regression with two features and train it with the data generated in Problem 1. The loss should be the binary cross entropy loss."
      ]
    },
    {
      "cell_type": "markdown",
      "metadata": {
        "id": "_Cra-dDnxnLv",
        "colab_type": "text"
      },
      "source": [
        "import keras dense layer. sequential model"
      ]
    },
    {
      "cell_type": "code",
      "metadata": {
        "id": "eiyk_2XpBLWt",
        "colab_type": "code",
        "outputId": "455b2a58-2493-4f4a-9f5b-ef00bbbdbd32",
        "colab": {
          "base_uri": "https://localhost:8080/",
          "height": 69
        }
      },
      "source": [
        "from tensorflow.python.keras.layers import Dense\n",
        "from tensorflow.python.keras import Sequential\n",
        "from tensorflow.python.keras import initializers\n",
        "model = Sequential() \n",
        "model.add(Dense(1, input_shape= (2,), activation='sigmoid' ,bias_initializer=initializers.Constant(1),)) \n",
        "#sanity check on weights and bias\n",
        "weight0=model.layers[0].get_weights()[0]\n",
        "bias = model.layers[0].get_weights()[1]\n",
        "print(weight0)\n",
        "print(bias)"
      ],
      "execution_count": 0,
      "outputs": [
        {
          "output_type": "stream",
          "text": [
            "[[-1.0318995]\n",
            " [ 1.216148 ]]\n",
            "[1.]\n"
          ],
          "name": "stdout"
        }
      ]
    },
    {
      "cell_type": "markdown",
      "metadata": {
        "id": "IKmevmFJx1cP",
        "colab_type": "text"
      },
      "source": [
        "Training the model and track validation loss and accruacy"
      ]
    },
    {
      "cell_type": "code",
      "metadata": {
        "id": "gzNFv2YOJEpL",
        "colab_type": "code",
        "outputId": "0e1115d3-d2ae-4f1c-c7c5-46f15775772d",
        "colab": {
          "base_uri": "https://localhost:8080/",
          "height": 537
        }
      },
      "source": [
        "from tensorflow.python.keras import optimizers\n",
        "sgd = optimizers.SGD(lr=0.01, decay=1e-6, momentum=0.9, nesterov=True)\n",
        "model.compile(optimizer = 'SGD',loss='binary_crossentropy', metrics=['accuracy'])\n",
        "model.summary()\n",
        "history = model.fit(X_train, labels_train,batch_size=1,epochs=10, validation_data=(X_test, labels_test))"
      ],
      "execution_count": 0,
      "outputs": [
        {
          "output_type": "stream",
          "text": [
            "Model: \"sequential\"\n",
            "_________________________________________________________________\n",
            "Layer (type)                 Output Shape              Param #   \n",
            "=================================================================\n",
            "dense (Dense)                (None, 1)                 3         \n",
            "=================================================================\n",
            "Total params: 3\n",
            "Trainable params: 3\n",
            "Non-trainable params: 0\n",
            "_________________________________________________________________\n",
            "Epoch 1/10\n",
            "80/80 [==============================] - 0s 3ms/step - loss: 1.4698 - accuracy: 0.2875 - val_loss: 1.0688 - val_accuracy: 0.3000\n",
            "Epoch 2/10\n",
            "80/80 [==============================] - 0s 2ms/step - loss: 0.6936 - accuracy: 0.6000 - val_loss: 0.4634 - val_accuracy: 0.8500\n",
            "Epoch 3/10\n",
            "80/80 [==============================] - 0s 1ms/step - loss: 0.4536 - accuracy: 0.8375 - val_loss: 0.2991 - val_accuracy: 0.9500\n",
            "Epoch 4/10\n",
            "80/80 [==============================] - 0s 1ms/step - loss: 0.3641 - accuracy: 0.9000 - val_loss: 0.2321 - val_accuracy: 0.9500\n",
            "Epoch 5/10\n",
            "80/80 [==============================] - 0s 1ms/step - loss: 0.3150 - accuracy: 0.9000 - val_loss: 0.1942 - val_accuracy: 0.9500\n",
            "Epoch 6/10\n",
            "80/80 [==============================] - 0s 1ms/step - loss: 0.2823 - accuracy: 0.9250 - val_loss: 0.1695 - val_accuracy: 0.9500\n",
            "Epoch 7/10\n",
            "80/80 [==============================] - 0s 1ms/step - loss: 0.2582 - accuracy: 0.9250 - val_loss: 0.1515 - val_accuracy: 0.9500\n",
            "Epoch 8/10\n",
            "80/80 [==============================] - 0s 1ms/step - loss: 0.2395 - accuracy: 0.9250 - val_loss: 0.1378 - val_accuracy: 0.9500\n",
            "Epoch 9/10\n",
            "80/80 [==============================] - 0s 2ms/step - loss: 0.2244 - accuracy: 0.9250 - val_loss: 0.1272 - val_accuracy: 0.9500\n",
            "Epoch 10/10\n",
            "80/80 [==============================] - 0s 1ms/step - loss: 0.2118 - accuracy: 0.9375 - val_loss: 0.1184 - val_accuracy: 0.9500\n"
          ],
          "name": "stdout"
        }
      ]
    },
    {
      "cell_type": "markdown",
      "metadata": {
        "id": "NWsnBCL4yPze",
        "colab_type": "text"
      },
      "source": [
        ""
      ]
    },
    {
      "cell_type": "code",
      "metadata": {
        "id": "LEnKThzCxDRZ",
        "colab_type": "code",
        "outputId": "bd5f06e6-0244-4328-cdcd-6d5b551b9aa2",
        "colab": {
          "base_uri": "https://localhost:8080/",
          "height": 69
        }
      },
      "source": [
        "#sanity check\n",
        "test_loss, test_acc = model.evaluate(X_test,  labels_test, verbose=2)\n",
        "print(test_loss)\n",
        "print(test_acc)\n"
      ],
      "execution_count": 0,
      "outputs": [
        {
          "output_type": "stream",
          "text": [
            "1/1 - 0s - loss: 0.1184 - accuracy: 0.9500\n",
            "0.11836525052785873\n",
            "0.949999988079071\n"
          ],
          "name": "stdout"
        }
      ]
    },
    {
      "cell_type": "code",
      "metadata": {
        "id": "OTTXsg6EUmJo",
        "colab_type": "code",
        "outputId": "392ebaf0-706d-4e7b-9cf9-49115f24c14c",
        "colab": {
          "base_uri": "https://localhost:8080/",
          "height": 763
        }
      },
      "source": [
        "#sanity check\n",
        "from keras.layers import Softmax\n",
        "probability_model = Sequential([model])\n",
        "predictions = probability_model.predict(X_test)\n",
        "print(X_test)\n",
        "print(labels_test)\n",
        "print(predictions)\n",
        "def red_or_blue(n):\n",
        "  return round(n[0])\n",
        "result = map(red_or_blue,predictions)\n",
        "result2 = list(result)\n",
        "print(result2)"
      ],
      "execution_count": 0,
      "outputs": [
        {
          "output_type": "stream",
          "text": [
            "Using TensorFlow backend.\n"
          ],
          "name": "stderr"
        },
        {
          "output_type": "stream",
          "text": [
            "[[ 0.48057434 -0.31667015]\n",
            " [ 0.46083995  2.63684389]\n",
            " [ 0.88475839  3.80670484]\n",
            " [ 0.18555246  2.3154258 ]\n",
            " [ 0.74799542 -0.47550711]\n",
            " [ 0.65627784  3.98982184]\n",
            " [ 0.43596276  1.76363329]\n",
            " [ 0.45734457  2.79481315]\n",
            " [ 0.27149939  1.91807639]\n",
            " [ 0.79431225  3.93255417]\n",
            " [ 0.98163857  3.54652065]\n",
            " [ 0.04369301 -1.84075555]\n",
            " [ 0.73202353  0.60150753]\n",
            " [ 0.28140147 -0.7393124 ]\n",
            " [ 0.46087147  2.09206342]\n",
            " [ 0.14995753 -1.12967429]\n",
            " [ 0.76558611  3.23810135]\n",
            " [ 0.25719096 -1.21501339]\n",
            " [ 0.79720962  3.02311971]\n",
            " [ 0.26442584  1.86770367]]\n",
            "[1 0 0 0 1 0 0 0 0 0 0 1 1 1 0 1 0 1 0 0]\n",
            "[[0.79095924]\n",
            " [0.04882678]\n",
            " [0.00680044]\n",
            " [0.09100544]\n",
            " [0.7973683 ]\n",
            " [0.00614047]\n",
            " [0.15763476]\n",
            " [0.03925422]\n",
            " [0.14393836]\n",
            " [0.00604433]\n",
            " [0.009251  ]\n",
            " [0.9796084 ]\n",
            " [0.45219314]\n",
            " [0.8900938 ]\n",
            " [0.10214192]\n",
            " [0.94029033]\n",
            " [0.0168331 ]\n",
            " [0.9428936 ]\n",
            " [0.02239656]\n",
            " [0.15390775]]\n",
            "[1.0, 0.0, 0.0, 0.0, 1.0, 0.0, 0.0, 0.0, 0.0, 0.0, 0.0, 1.0, 0.0, 1.0, 0.0, 1.0, 0.0, 1.0, 0.0, 0.0]\n"
          ],
          "name": "stdout"
        }
      ]
    },
    {
      "cell_type": "code",
      "metadata": {
        "id": "EzQxLIeUcQsf",
        "colab_type": "code",
        "outputId": "9ab42037-eb32-49cf-e08f-deecb0a5a5a7",
        "colab": {
          "base_uri": "https://localhost:8080/",
          "height": 381
        }
      },
      "source": [
        "#sanity check\n",
        "correct = 0\n",
        "for x in range(len(labels_test)):\n",
        "  if int(labels_test[x]) == int(result2[x]):\n",
        "    correct += 1\n",
        "  \n",
        "  print(\"{} - {}\".format(labels_test[x], int(result2[x])))\n",
        "print(correct) "
      ],
      "execution_count": 0,
      "outputs": [
        {
          "output_type": "stream",
          "text": [
            "1 - 1\n",
            "0 - 0\n",
            "0 - 0\n",
            "0 - 0\n",
            "1 - 1\n",
            "0 - 0\n",
            "0 - 0\n",
            "0 - 0\n",
            "0 - 0\n",
            "0 - 0\n",
            "0 - 0\n",
            "1 - 1\n",
            "1 - 0\n",
            "1 - 1\n",
            "0 - 0\n",
            "1 - 1\n",
            "0 - 0\n",
            "1 - 1\n",
            "0 - 0\n",
            "0 - 0\n",
            "19\n"
          ],
          "name": "stdout"
        }
      ]
    },
    {
      "cell_type": "markdown",
      "metadata": {
        "id": "hdQw_jS4yxPO",
        "colab_type": "text"
      },
      "source": [
        "### ${y= w_1x_1 + w_2x_2 + b}$ \n",
        "### ${0= w_1x_1 + w_2x_2 + b}$ \n",
        "solve for ${x_2}$\n",
        "\n",
        "${x_2}$= -${(w_1/w_2)x_1 - (b/w_2)}$\n",
        "\n",
        "y = wx + b\n",
        "\n",
        "${w = -(w_1/w_2)}$\n",
        "\n",
        "${b = - (b/w_2)}$"
      ]
    },
    {
      "cell_type": "code",
      "metadata": {
        "id": "VSUoykgxVOxF",
        "colab_type": "code",
        "outputId": "f177fe40-ad45-4118-dc04-2fb6192f49d7",
        "colab": {
          "base_uri": "https://localhost:8080/",
          "height": 52
        }
      },
      "source": [
        "#calculating the slope and y intercept\n",
        "x_intercept = -(bias[0]/weight0[0])\n",
        "y_intercept = -bias[0]/weight0[1]\n",
        "slope = y_intercept/x\n",
        "print(slope)\n",
        "print(y_intercept)"
      ],
      "execution_count": 0,
      "outputs": [
        {
          "output_type": "stream",
          "text": [
            "[-0.04327728]\n",
            "[-0.8222683]\n"
          ],
          "name": "stdout"
        }
      ]
    },
    {
      "cell_type": "markdown",
      "metadata": {
        "id": "lkV99sCk0ezX",
        "colab_type": "text"
      },
      "source": [
        "##Display the data with separating line by the model prediction and true line"
      ]
    },
    {
      "cell_type": "code",
      "metadata": {
        "id": "4sXRJgvbK5KE",
        "colab_type": "code",
        "outputId": "14dec7bb-a1ab-4c80-f5f0-eb843bb67e15",
        "colab": {
          "base_uri": "https://localhost:8080/",
          "height": 335
        }
      },
      "source": [
        "#plt.scatter(data[:,0], data[:,1])\n",
        "for x in range(0,m):\n",
        "  #if label is 0 be blue,  else red\n",
        "  if labels[x] == 0:\n",
        "    c = 2\n",
        "  else:\n",
        "    c = 1\n",
        "  #plot the data\n",
        "  plt.scatter(data[x][0], data[x][1], color = cdict[c])\n",
        "x = np.linspace(0,1,100)\n",
        "#get weight from model\n",
        "weights = model.get_weights()\n",
        "#sanity check\n",
        "print(weights)\n",
        "w1 = weights[0][0]\n",
        "#sanity check\n",
        "print(w1)\n",
        "#find slope and y-intercept\n",
        "w2 = weights[0][1]\n",
        "bias = weights[1][0]\n",
        "pre_b = -bias/w2\n",
        "pre_w = -w1/w2\n",
        "pre_y = pre_w*x+pre_b\n",
        "y = w*x+b\n",
        "#sanity check\n",
        "print(b)\n",
        "plt.plot(x, pre_y ,'k-',label = 'separating line')\n",
        "plt.plot(x,y ,label = 'true line')\n",
        "plt.legend()\n",
        "plt.show()"
      ],
      "execution_count": 0,
      "outputs": [
        {
          "output_type": "stream",
          "text": [
            "[array([[-0.7210085],\n",
            "       [-1.460756 ]], dtype=float32), array([1.2146376], dtype=float32)]\n",
            "[-0.7210085]\n",
            "0\n"
          ],
          "name": "stdout"
        },
        {
          "output_type": "display_data",
          "data": {
            "image/png": "[encoded data removed]",
            "text/plain": [
              "<Figure size 432x288 with 1 Axes>"
            ]
          },
          "metadata": {
            "tags": []
          }
        }
      ]
    },
    {
      "cell_type": "markdown",
      "metadata": {
        "id": "IASSKLSA0vLO",
        "colab_type": "text"
      },
      "source": [
        "##Display the head map made with the prediction from the model"
      ]
    },
    {
      "cell_type": "code",
      "metadata": {
        "id": "JX1e4moUTbFb",
        "colab_type": "code",
        "colab": {}
      },
      "source": [
        "def heatmap(data):\n",
        "  # Creates X, Y plane\n",
        "  xx = np.linspace(0, 1, 100)\n",
        "  y_min = min(data[:,1])\n",
        "  y_max = max(data[:,1])\n",
        "  yy = np.linspace(y_min, y_max, 100)\n",
        "  X1, Y1 = np.meshgrid(xx, yy)\n",
        "  # Creates Z values based on x, y grid\n",
        "  X_flat = X1.flatten()\n",
        "  Y_flat = Y1.flatten()\n",
        "  Z = np.column_stack((X_flat, Y_flat))\n",
        "  #sanity check\n",
        "  print(Z.shape)\n",
        "  Z = model.predict(Z)\n",
        "  #sanity check\n",
        "  print(Z.shape)\n",
        "  Z = Z.reshape((100,100))\n",
        "\n",
        "  # Configures the plot\n",
        "  fig = plt.figure()\n",
        "  ax = plt.axes()\n",
        "\n",
        "  # Draws the heatmap\n",
        "  contours = ax.contourf(X1, Y1, Z, 100, cmap='RdBu_r')\n",
        "  im = ax.imshow(Z, extent=[0, 1, y_min, y_max], cmap='RdBu_r', alpha=0.5, aspect='auto')\n",
        "    \n",
        "  # Gives a colorbar (should be in range [0,1])\n",
        "  plt.colorbar(im, ax=ax)"
      ],
      "execution_count": 0,
      "outputs": []
    },
    {
      "cell_type": "code",
      "metadata": {
        "id": "39GpRSF33oBY",
        "colab_type": "code",
        "outputId": "5a990b0b-8014-469a-ac10-231df79dd642",
        "colab": {
          "base_uri": "https://localhost:8080/",
          "height": 300
        }
      },
      "source": [
        "heatmap(data)"
      ],
      "execution_count": 0,
      "outputs": [
        {
          "output_type": "stream",
          "text": [
            "(10000, 2)\n",
            "(10000, 1)\n"
          ],
          "name": "stdout"
        },
        {
          "output_type": "display_data",
          "data": {
            "image/png": "[encoded data removed]",
            "text/plain": [
              "<Figure size 432x288 with 2 Axes>"
            ]
          },
          "metadata": {
            "tags": []
          }
        }
      ]
    },
    {
      "cell_type": "markdown",
      "metadata": {
        "id": "4Q6bDZ1n01be",
        "colab_type": "text"
      },
      "source": [
        "#Problem 3 \n",
        "Use numpy to implement a logistic regression model from scratch and train it with the data generated as in Problem 1."
      ]
    },
    {
      "cell_type": "code",
      "metadata": {
        "id": "QOW4fRVR92Om",
        "colab_type": "code",
        "colab": {}
      },
      "source": [
        "def loss_gradient(a, label, X_b):\n",
        "    return (a - label) * X_b\n",
        "def predict(a):\n",
        "    return 0 if a < 0.5 else 1\n",
        "def test_model(test_data, test_labels, W_b):\n",
        "    correct_predictions = 0\n",
        "    total_loss = 0\n",
        "    testd = np.column_stack((test_data, np.ones(shape=(test_data.shape[0], 1))))\n",
        "    for i_data in range(len(test_data)):\n",
        "        # Process the input\n",
        "        z = np.dot(testd[i_data], W_b)\n",
        "        a = sigmoid(z)\n",
        "\n",
        "        # Make a prediction\n",
        "        p = predict(a)\n",
        "        if p == test_labels[i_data]:\n",
        "            correct_predictions += 1\n",
        "        \n",
        "        # Determine loss\n",
        "        total_loss += binary_crossentropy(a, test_labels[i_data])\n",
        "    # Return a summary\n",
        "    print(total_loss)\n",
        "    return (total_loss / len(test_data), correct_predictions / len(test_data))\n",
        "def sigmoid (z):\n",
        "    return 1 / (1 + np.exp(-z))\n",
        "def binary_crossentropy(a, label):\n",
        "    return -label*np.log(a) - (1 - label)*np.log(1 - a)\n",
        "def logistic_regression(train_data, train_labels, test_data, test_labels, epochs, learing_rate):\n",
        "    # Randomize the initial weights\n",
        "    W_b = np.random.random_sample((3, ))\n",
        "    trd = np.column_stack((X_train, np.ones(shape=(X_train.shape[0], 1))))\n",
        "    for epoch in range(epochs):\n",
        "        # Only perform stochastic gradient descent\n",
        "        for i_data in range(len(train_data)):\n",
        "            # Process the input\n",
        "            z = np.dot(trd[i_data], W_b)\n",
        "            a = sigmoid(z)\n",
        "\n",
        "            # Determine the gradient of the loss\n",
        "            Lg_b = (a- train_labels[i_data])* trd[i_data]\n",
        "\n",
        "            # Apply the gradient to the weights\n",
        "            W_b -= Lg_b * learning_rate\n",
        "        \n",
        "        # Analyze the loss and accuracy for each epoch\n",
        "        loss, accuracy = test_model(test_data, test_labels, W_b)\n",
        "        print(f'Epoch {epoch+1}/{epochs} - val_loss: {loss} - val_accuracy: {accuracy}')\n",
        "    \n",
        "    # Return the trained weights\n",
        "    return W_b"
      ],
      "execution_count": 0,
      "outputs": []
    },
    {
      "cell_type": "markdown",
      "metadata": {
        "id": "E8UA-dUI2vFY",
        "colab_type": "text"
      },
      "source": [
        "Doing logistic regression"
      ]
    },
    {
      "cell_type": "code",
      "metadata": {
        "id": "4Y8Ae9MyY6f6",
        "colab_type": "code",
        "outputId": "415a0da7-3b94-486e-bebc-10d0c6639cf2",
        "colab": {
          "base_uri": "https://localhost:8080/",
          "height": 364
        }
      },
      "source": [
        "epochs = 10\n",
        "learning_rate = 0.01\n",
        "\n",
        "W_b = logistic_regression(X_train, labels_train, X_test, labels_test, epochs, learning_rate)"
      ],
      "execution_count": 0,
      "outputs": [
        {
          "output_type": "stream",
          "text": [
            "10.74936820606641\n",
            "Epoch 1/10 - val_loss: 0.5374684103033205 - val_accuracy: 0.75\n",
            "5.700031811842113\n",
            "Epoch 2/10 - val_loss: 0.2850015905921056 - val_accuracy: 1.0\n",
            "4.094932174216998\n",
            "Epoch 3/10 - val_loss: 0.2047466087108499 - val_accuracy: 1.0\n",
            "3.3243461587791114\n",
            "Epoch 4/10 - val_loss: 0.16621730793895556 - val_accuracy: 1.0\n",
            "2.8627930693697214\n",
            "Epoch 5/10 - val_loss: 0.14313965346848606 - val_accuracy: 1.0\n",
            "2.5488122276781713\n",
            "Epoch 6/10 - val_loss: 0.12744061138390855 - val_accuracy: 1.0\n",
            "2.317401821124031\n",
            "Epoch 7/10 - val_loss: 0.11587009105620154 - val_accuracy: 1.0\n",
            "2.137389009990865\n",
            "Epoch 8/10 - val_loss: 0.10686945049954324 - val_accuracy: 1.0\n",
            "1.9918911746848238\n",
            "Epoch 9/10 - val_loss: 0.0995945587342412 - val_accuracy: 1.0\n",
            "1.870912251651367\n",
            "Epoch 10/10 - val_loss: 0.09354561258256835 - val_accuracy: 1.0\n"
          ],
          "name": "stdout"
        }
      ]
    },
    {
      "cell_type": "code",
      "metadata": {
        "id": "geNZXp3t5it3",
        "colab_type": "code",
        "outputId": "54fa869b-6a69-407b-903d-6149dd658a96",
        "colab": {
          "base_uri": "https://localhost:8080/",
          "height": 300
        }
      },
      "source": [
        "#same code from the displaying data from above expcept using \n",
        "for x in range(0,m):\n",
        "  if labels[x] == 0:\n",
        "    c = 2\n",
        "  else:\n",
        "    c = 1\n",
        "  plt.scatter(data[x][0],data[x][1], color = cdict[c])\n",
        "#set up x value \n",
        "x = np.linspace(0,1,100)\n",
        "#sanity check\n",
        "print(W_b)\n",
        "w1 = W_b[1]\n",
        "#sanity check\n",
        "print(w1)\n",
        "w2 = W_b[2]\n",
        "bias = W_b[0]\n",
        "pre_b = -bias/w2\n",
        "pre_w = -w1/w2\n",
        "pre_y = pre_w*x+pre_b\n",
        "y = w*x+b\n",
        "plt.plot(x, pre_y ,'k-',label = 'separating line')\n",
        "plt.plot(x,y ,label = 'true line')\n",
        "plt.legend()\n",
        "plt.show()"
      ],
      "execution_count": 0,
      "outputs": [
        {
          "output_type": "stream",
          "text": [
            "[ 0.44411962 -1.5929194   0.87085075]\n",
            "-1.5929194020780673\n"
          ],
          "name": "stdout"
        },
        {
          "output_type": "display_data",
          "data": {
            "image/png": "[encoded data removed]",
            "text/plain": [
              "<Figure size 432x288 with 1 Axes>"
            ]
          },
          "metadata": {
            "tags": []
          }
        }
      ]
    },
    {
      "cell_type": "code",
      "metadata": {
        "id": "-gg9HZ4W3ZN3",
        "colab_type": "code",
        "colab": {}
      },
      "source": [
        "def prediction(data):\n",
        "  #sanity check\n",
        "  print(data.shape)\n",
        "  #add bias to the data\n",
        "  np_data = np.column_stack((data, np.ones(shape=(data.shape[0], 1))))\n",
        "  z = np.dot(np_data,W_b)\n",
        "  return sigmoid(z)\n",
        "def myheatmap(data):\n",
        "  # Creates X, Y plane\n",
        "  xx = np.linspace(0, 1, 100)\n",
        "  y_min = min(data[:,1])\n",
        "  y_max = max(data[:,1])\n",
        "  yy = np.linspace(y_min, y_max, 100)\n",
        "  X1, Y1 = np.meshgrid(xx, yy)\n",
        "  # Creates Z values based on x, y grid\n",
        "  X_flat = X1.flatten()\n",
        "  Y_flat = Y1.flatten()\n",
        "  Z = np.column_stack((X_flat, Y_flat))\n",
        "  #sanity check\n",
        "  print(Z.shape)\n",
        "  Z = prediction(Z)\n",
        "  Z = Z.reshape((100,100))\n",
        "\n",
        "  # Configures the plot\n",
        "  fig = plt.figure()\n",
        "  ax = plt.axes()\n",
        "\n",
        "  # Draws the heatmap\n",
        "  contours = ax.contourf(X1, Y1, Z, 100, cmap='RdBu_r')\n",
        "  im = ax.imshow(Z, extent=[0, 1, y_min, y_max], cmap='RdBu_r', alpha=0.5, aspect='auto')\n",
        "    \n",
        "  # Gives a colorbar (should be in range [0,1])\n",
        "  plt.colorbar(im, ax=ax)"
      ],
      "execution_count": 0,
      "outputs": []
    },
    {
      "cell_type": "code",
      "metadata": {
        "id": "E5CCrrL_5RY_",
        "colab_type": "code",
        "outputId": "7d0a4650-301d-44c5-9b08-40f00c90d602",
        "colab": {
          "base_uri": "https://localhost:8080/",
          "height": 300
        }
      },
      "source": [
        "#display heatmap\n",
        "myheatmap(data)"
      ],
      "execution_count": 0,
      "outputs": [
        {
          "output_type": "stream",
          "text": [
            "(10000, 2)\n",
            "(10000, 2)\n"
          ],
          "name": "stdout"
        },
        {
          "output_type": "display_data",
          "data": {
            "image/png": "[encoded data removed]",
            "text/plain": [
              "<Figure size 432x288 with 2 Axes>"
            ]
          },
          "metadata": {
            "tags": []
          }
        }
      ]
    }
  ]
}