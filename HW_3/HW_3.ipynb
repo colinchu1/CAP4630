{
  "nbformat": 4,
  "nbformat_minor": 0,
  "metadata": {
    "colab": {
      "name": "HW_3.ipynb",
      "provenance": [],
      "collapsed_sections": [],
      "authorship_tag": "ABX9TyMB6PPpnzLMjSxWQtUjXaSm",
      "include_colab_link": true
    },
    "kernelspec": {
      "name": "python3",
      "display_name": "Python 3"
    }
  },
  "cells": [
    {
      "cell_type": "markdown",
      "metadata": {
        "id": "view-in-github",
        "colab_type": "text"
      },
      "source": [
        "<a href=\"https://colab.research.google.com/github/colinchu1/CAP4630/blob/master/HW_3/HW_3.ipynb\" target=\"_parent\"><img src=\"https://colab.research.google.com/assets/colab-badge.svg\" alt=\"Open In Colab\"/></a>"
      ]
    },
    {
      "cell_type": "markdown",
      "metadata": {
        "id": "UcAAl3uZxFPB",
        "colab_type": "text"
      },
      "source": [
        "#IMPORTS\n",
        "\n"
      ]
    },
    {
      "cell_type": "code",
      "metadata": {
        "id": "WVjx4q7HxNYp",
        "colab_type": "code",
        "colab": {}
      },
      "source": [
        "import random\n",
        "import matplotlib\n",
        "import matplotlib.pyplot as plt\n",
        "import time\n",
        "import numpy as np\n",
        "from sklearn.model_selection import train_test_split"
      ],
      "execution_count": 0,
      "outputs": []
    },
    {
      "cell_type": "markdown",
      "metadata": {
        "id": "m7RUeb6QxRK_",
        "colab_type": "text"
      },
      "source": [
        "#Problem 1 \n",
        "Implement the function get_random_data(w, b, mu, sigma, m) that generates random data for logisitic regression with two features features x_1 and x_2. This function should return the array data of shape (m, 2) and the array labels of shape (m, 1). \n",
        "\n",
        "The entries of the arrays should be generated as follows. For each row i in {0, 1, ..., m-1}:\n",
        "\n",
        "Choose class label c=0 with probability 1/2 and c=1 with probability 1/2.\n",
        "Choose the first feature x_1 uniformly at random in the interval [0, 1).\n",
        "Set the second feature x_2 to be x_2 = w * x_1 + b + (-1)^c * n, where the \"noise\" n is chosen according to the normal distribution with mean mu and standard deviation sigma.\n",
        "The ith row of the array data consists of the features x_1 and x_2.\n",
        "The ith entry of the vector labels is the class label c.\n",
        "Implement the function display_random_data that takes as input the above two arrays labels and data. It should create scatter plot of the 2D points stored in data. Use red dots to plot the points whose labels are 1 and blue dots to plot the points whose labels are 0.\n",
        "\n",
        "Hints: You should see that the 2D points (feature vectors) corresponding to different classes are approximately separated by the line y = w * x + b, where w and b are the parameters that you used to generate the data. Note that the smaller the parameter mu, the closer the points are to this line. Also, the larger the parameter sigma, the more points can be on the wrong side of this line.\n",
        "\n",
        "Experiment with different values of mu and sigma. Make sure that the parameter m is large enough so you have enough data points.\n",
        "\n",
        "Split the data/labels into a training set (80%) and a test set (20%)."
      ]
    },
    {
      "cell_type": "code",
      "metadata": {
        "id": "ax4kYp_NtPm_",
        "colab_type": "code",
        "colab": {}
      },
      "source": [
        "def get_random_data(w, b, mu, sigma, m):\n",
        "  data = [[] for j in range(m)] \n",
        "  labels = []\n",
        "  for x in range (0,m):\n",
        "    c = random.randint(0,1)\n",
        "    x_1 = np.random.uniform()\n",
        "    n = np.random.normal(mu, sigma)\n",
        "    x_2 = w * x_1 + b + (-1)**c * n\n",
        "    data[x].append(x_1)\n",
        "    data[x].append(x_2)\n",
        "    labels.append(c)\n",
        "  return data, labels"
      ],
      "execution_count": 0,
      "outputs": []
    },
    {
      "cell_type": "code",
      "metadata": {
        "id": "FWulGhrpARIr",
        "colab_type": "code",
        "outputId": "7cc6e790-0006-4dc2-e4aa-91defa9e46c9",
        "colab": {
          "base_uri": "https://localhost:8080/",
          "height": 265
        }
      },
      "source": [
        "mu , sigma = 1.5,0.5\n",
        "m = 500\n",
        "w = 2\n",
        "b = 0\n",
        "data, labels = get_random_data(w,b,mu,sigma,m)\n",
        "data = np.array(data)\n",
        "labels = np.array(labels)\n",
        "cdict = {1: 'red', 2: 'blue'}\n",
        "def display_random_data(labels, data):\n",
        "  plt.figure()\n",
        "  #plt.scatter(data[:,0], data[:,1])\n",
        "  for x in range(0,m):\n",
        "    #if label is 0 be blue if 1 be red\n",
        "    if labels[x] == 0:\n",
        "      c = 2\n",
        "    else:\n",
        "      c = 1\n",
        "    plt.scatter(data[x][0], data[x][1], color = cdict[c])\n",
        "  x = np.linspace(0,1,500)\n",
        "  y = w * x + b\n",
        "  #plot the true line\n",
        "  plt.plot(x,y)\n",
        "  plt.show()\n",
        "#display the data\n",
        "display_random_data(labels,data)"
      ],
      "execution_count": 0,
      "outputs": [
        {
          "output_type": "display_data",
          "data": {
            "image/png": "[encoded data removed]",
            "text/plain": [
              "<Figure size 432x288 with 1 Axes>"
            ]
          },
          "metadata": {
            "tags": []
          }
        }
      ]
    },
    {
      "cell_type": "code",
      "metadata": {
        "id": "flENj0COf5O5",
        "colab_type": "code",
        "outputId": "2773b9b6-9e9f-44c1-abba-ef8f53b71eb0",
        "colab": {
          "base_uri": "https://localhost:8080/",
          "height": 52
        }
      },
      "source": [
        "# split the data\n",
        "X_train, X_test, labels_train, labels_test = train_test_split(data, labels, test_size=0.2)\n",
        "#sanity check\n",
        "print (X_train.shape, labels_train.shape)\n",
        "print (X_test.shape, labels_test.shape)"
      ],
      "execution_count": 0,
      "outputs": [
        {
          "output_type": "stream",
          "text": [
            "(400, 2) (400,)\n",
            "(100, 2) (100,)\n"
          ],
          "name": "stdout"
        }
      ]
    },
    {
      "cell_type": "markdown",
      "metadata": {
        "id": "n55C5ii7xeI_",
        "colab_type": "text"
      },
      "source": [
        "#Problem 2\n",
        "Create a Keras to implement logistic regression with two features and train it with the data generated in Problem 1. The loss should be the binary cross entropy loss. How well does the trained model separate the red and blue dots? You can obtain the separating line determined by the model by extracting the weights from the dense layer using the function get_weights. See https://keras.io/layers/about-keras-layers/.\n",
        "\n",
        "Create a plot showing the random data, the true line used to generate the data, and the separating line of the trained model. Make sure that you describe in detail in your notebook how you proceed to obtain the separating line.\n",
        "\n",
        "Note that you have to carry out some simple steps to obtain the separating line from the model weights (the two weights and the bias term of the dense layer). This is not immediately obvious. It maybe helpful to take a look at the heatmap below.\n",
        "\n",
        "The trained model realizes function f : R^2 -> R that takes two features as input and outputs a number in the interval [0, 1]. Use a heatmap to visualize this function."
      ]
    },
    {
      "cell_type": "markdown",
      "metadata": {
        "id": "_Cra-dDnxnLv",
        "colab_type": "text"
      },
      "source": [
        "###import keras dense layer. sequential model"
      ]
    },
    {
      "cell_type": "code",
      "metadata": {
        "id": "eiyk_2XpBLWt",
        "colab_type": "code",
        "outputId": "f26714c3-4c14-43f7-b685-4bdc7cacd154",
        "colab": {
          "base_uri": "https://localhost:8080/",
          "height": 69
        }
      },
      "source": [
        "from tensorflow.python.keras.layers import Dense\n",
        "from tensorflow.python.keras import Sequential\n",
        "from tensorflow.python.keras import initializers\n",
        "model = Sequential() \n",
        "model.add(Dense(1, input_shape= (2,), activation='sigmoid' ,bias_initializer=initializers.Constant(1),)) \n",
        "#sanity check on weights and bias\n",
        "weight0=model.layers[0].get_weights()[0]\n",
        "bias = model.layers[0].get_weights()[1]\n",
        "print(weight0)\n",
        "print(bias)"
      ],
      "execution_count": 0,
      "outputs": [
        {
          "output_type": "stream",
          "text": [
            "[[-0.10325837]\n",
            " [ 1.0838784 ]]\n",
            "[1.]\n"
          ],
          "name": "stdout"
        }
      ]
    },
    {
      "cell_type": "markdown",
      "metadata": {
        "id": "IKmevmFJx1cP",
        "colab_type": "text"
      },
      "source": [
        "Training the model and track validation loss and accruacy"
      ]
    },
    {
      "cell_type": "code",
      "metadata": {
        "id": "gzNFv2YOJEpL",
        "colab_type": "code",
        "outputId": "a9539f47-723c-4436-edd9-08af7d24c3df",
        "colab": {
          "base_uri": "https://localhost:8080/",
          "height": 537
        }
      },
      "source": [
        "from tensorflow.python.keras import optimizers\n",
        "sgd = optimizers.SGD(lr=0.01, decay=1e-6, momentum=0.9, nesterov=True)\n",
        "model.compile(optimizer = 'SGD',loss='binary_crossentropy', metrics=['accuracy'])\n",
        "model.summary()\n",
        "history = model.fit(X_train, labels_train,batch_size=1,epochs=10, validation_data=(X_test, labels_test))"
      ],
      "execution_count": 0,
      "outputs": [
        {
          "output_type": "stream",
          "text": [
            "Model: \"sequential\"\n",
            "_________________________________________________________________\n",
            "Layer (type)                 Output Shape              Param #   \n",
            "=================================================================\n",
            "dense (Dense)                (None, 1)                 3         \n",
            "=================================================================\n",
            "Total params: 3\n",
            "Trainable params: 3\n",
            "Non-trainable params: 0\n",
            "_________________________________________________________________\n",
            "Epoch 1/10\n",
            "400/400 [==============================] - 1s 2ms/step - loss: 0.5851 - accuracy: 0.7950 - val_loss: 0.2286 - val_accuracy: 0.9600\n",
            "Epoch 2/10\n",
            "400/400 [==============================] - 0s 1ms/step - loss: 0.1992 - accuracy: 0.9550 - val_loss: 0.1600 - val_accuracy: 0.9800\n",
            "Epoch 3/10\n",
            "400/400 [==============================] - 1s 1ms/step - loss: 0.1536 - accuracy: 0.9625 - val_loss: 0.1272 - val_accuracy: 0.9800\n",
            "Epoch 4/10\n",
            "400/400 [==============================] - 1s 1ms/step - loss: 0.1279 - accuracy: 0.9675 - val_loss: 0.1068 - val_accuracy: 0.9800\n",
            "Epoch 5/10\n",
            "400/400 [==============================] - 0s 1ms/step - loss: 0.1108 - accuracy: 0.9725 - val_loss: 0.0929 - val_accuracy: 0.9800\n",
            "Epoch 6/10\n",
            "400/400 [==============================] - 0s 1ms/step - loss: 0.0986 - accuracy: 0.9825 - val_loss: 0.0826 - val_accuracy: 0.9800\n",
            "Epoch 7/10\n",
            "400/400 [==============================] - 0s 1ms/step - loss: 0.0892 - accuracy: 0.9825 - val_loss: 0.0746 - val_accuracy: 0.9800\n",
            "Epoch 8/10\n",
            "400/400 [==============================] - 1s 1ms/step - loss: 0.0819 - accuracy: 0.9875 - val_loss: 0.0683 - val_accuracy: 0.9900\n",
            "Epoch 9/10\n",
            "400/400 [==============================] - 1s 1ms/step - loss: 0.0759 - accuracy: 0.9875 - val_loss: 0.0632 - val_accuracy: 0.9900\n",
            "Epoch 10/10\n",
            "400/400 [==============================] - 1s 1ms/step - loss: 0.0709 - accuracy: 0.9900 - val_loss: 0.0589 - val_accuracy: 1.0000\n"
          ],
          "name": "stdout"
        }
      ]
    },
    {
      "cell_type": "markdown",
      "metadata": {
        "id": "NWsnBCL4yPze",
        "colab_type": "text"
      },
      "source": [
        ""
      ]
    },
    {
      "cell_type": "code",
      "metadata": {
        "id": "LEnKThzCxDRZ",
        "colab_type": "code",
        "outputId": "9d8701ef-0b36-4d3a-f5c7-e9254f4f6457",
        "colab": {
          "base_uri": "https://localhost:8080/",
          "height": 69
        }
      },
      "source": [
        "#sanity check\n",
        "test_loss, test_acc = model.evaluate(X_test,  labels_test, verbose=2)\n",
        "print(test_loss)\n",
        "print(test_acc)\n"
      ],
      "execution_count": 0,
      "outputs": [
        {
          "output_type": "stream",
          "text": [
            "4/4 - 0s - loss: 0.0582 - accuracy: 1.0000\n",
            "0.05820290744304657\n",
            "1.0\n"
          ],
          "name": "stdout"
        }
      ]
    },
    {
      "cell_type": "markdown",
      "metadata": {
        "id": "hdQw_jS4yxPO",
        "colab_type": "text"
      },
      "source": [
        "### ${y= w_1x_1 + w_2x_2 + b}$ \n",
        "### ${0= w_1x_1 + w_2x_2 + b}$ \n",
        "solve for ${x_2}$\n",
        "\n",
        "${x_2}$= -${(w_1/w_2)x_1 - (b/w_2)}$\n",
        "\n",
        "y = wx + b\n",
        "\n",
        "${w = -(w_1/w_2)}$\n",
        "\n",
        "${b = - (b/w_2)}$"
      ]
    },
    {
      "cell_type": "markdown",
      "metadata": {
        "id": "lkV99sCk0ezX",
        "colab_type": "text"
      },
      "source": [
        "##Display the data with separating line by the model prediction and true line"
      ]
    },
    {
      "cell_type": "code",
      "metadata": {
        "id": "4sXRJgvbK5KE",
        "colab_type": "code",
        "outputId": "7572c4ee-6714-405d-ee28-4935a1c993ce",
        "colab": {
          "base_uri": "https://localhost:8080/",
          "height": 335
        }
      },
      "source": [
        "#plt.scatter(data[:,0], data[:,1])\n",
        "for x in range(0,100):\n",
        "  #if label is 0 be blue,  else red\n",
        "  if labels_test[x] == 0:\n",
        "    c = 2\n",
        "  else:\n",
        "    c = 1\n",
        "  #plot the data\n",
        "  plt.scatter(X_test[x][0], X_test[x][1], color = cdict[c])\n",
        "x = np.linspace(0,1,100)\n",
        "#get weight from model\n",
        "weights = model.get_weights()\n",
        "#sanity check\n",
        "print(weights)\n",
        "w1 = weights[0][0]\n",
        "#sanity check\n",
        "print(w1)\n",
        "#find slope and y-intercept\n",
        "w2 = weights[0][1]\n",
        "bias = weights[1][0]\n",
        "pre_b = -bias/w2\n",
        "pre_w = -w1/w2\n",
        "pre_y = pre_w*x+pre_b\n",
        "y = w*x+b\n",
        "#sanity check\n",
        "print(b)\n",
        "plt.plot(x, pre_y ,'k-',label = 'separating line')\n",
        "plt.plot(x,y ,label = 'true line')\n",
        "plt.legend()\n",
        "plt.show()"
      ],
      "execution_count": 0,
      "outputs": [
        {
          "output_type": "stream",
          "text": [
            "[array([[ 1.016285 ],\n",
            "       [-2.5803666]], dtype=float32), array([1.795504], dtype=float32)]\n",
            "[1.016285]\n",
            "0\n"
          ],
          "name": "stdout"
        },
        {
          "output_type": "display_data",
          "data": {
            "image/png": "[encoded data removed]",
            "text/plain": [
              "<Figure size 432x288 with 1 Axes>"
            ]
          },
          "metadata": {
            "tags": []
          }
        }
      ]
    },
    {
      "cell_type": "markdown",
      "metadata": {
        "id": "IASSKLSA0vLO",
        "colab_type": "text"
      },
      "source": [
        "##Display the heat map made with the prediction from the model"
      ]
    },
    {
      "cell_type": "code",
      "metadata": {
        "id": "JX1e4moUTbFb",
        "colab_type": "code",
        "colab": {}
      },
      "source": [
        "def heatmap(data):\n",
        "  # Creates X, Y plane\n",
        "  xx = np.linspace(0, 1, 100)\n",
        "  y_min = min(X_test[:,1])\n",
        "  y_max = max(X_test[:,1])\n",
        "  yy = np.linspace(y_min, y_max, 100)\n",
        "  X1, Y1 = np.meshgrid(xx, yy)\n",
        "  # Creates Z values based on x, y grid\n",
        "  X_flat = X1.flatten()\n",
        "  Y_flat = Y1.flatten()\n",
        "  Z = np.column_stack((X_flat, Y_flat))\n",
        "  #sanity check\n",
        "  print(Z.shape)\n",
        "  Z = model.predict(Z)\n",
        "  #sanity check\n",
        "  print(Z.shape)\n",
        "  Z = Z.reshape((100,100))\n",
        "\n",
        "  # Configures the plot\n",
        "  fig = plt.figure()\n",
        "  ax = plt.axes()\n",
        "\n",
        "  # Draws the heatmap\n",
        "  contours = ax.contourf(X1, Y1, Z, 100, cmap='RdBu_r')\n",
        "  im = ax.imshow(Z, extent=[0, 1, y_min, y_max], cmap='RdBu_r', alpha=0.5, aspect='auto')\n",
        "    \n",
        "  # Gives a colorbar (should be in range [0,1])\n",
        "  plt.colorbar(im, ax=ax)"
      ],
      "execution_count": 0,
      "outputs": []
    },
    {
      "cell_type": "code",
      "metadata": {
        "id": "39GpRSF33oBY",
        "colab_type": "code",
        "outputId": "f639ae90-b2db-4738-d510-6b4d84488da8",
        "colab": {
          "base_uri": "https://localhost:8080/",
          "height": 300
        }
      },
      "source": [
        "heatmap(data)"
      ],
      "execution_count": 0,
      "outputs": [
        {
          "output_type": "stream",
          "text": [
            "(10000, 2)\n",
            "(10000, 1)\n"
          ],
          "name": "stdout"
        },
        {
          "output_type": "display_data",
          "data": {
            "image/png": "[encoded data removed]",
            "text/plain": [
              "<Figure size 432x288 with 2 Axes>"
            ]
          },
          "metadata": {
            "tags": []
          }
        }
      ]
    },
    {
      "cell_type": "markdown",
      "metadata": {
        "id": "4Q6bDZ1n01be",
        "colab_type": "text"
      },
      "source": [
        "#Problem 3 \n",
        "Use numpy to implement a logistic regression model from scratch and train it with the data generated as in Problem 1.\n",
        "Hints: Look at the notes on logistic regression to figure out what the gradient is of the binary cross entropy loss with respect to w and b. Note that you only have to implement stochastic gradient, that is, you do not have to write vectorized code for mini-batch gradient descent.\n",
        "\n",
        "Create a plot showing the random data, the true line used to generate the data, and the separating line of the trained model.\n",
        "\n",
        "Use a heatmap to visualize the function defined by your trained model.\n",
        "\n",
        "You also have to compute the binary cross entropy loss and accuracy on the test set."
      ]
    },
    {
      "cell_type": "code",
      "metadata": {
        "id": "QOW4fRVR92Om",
        "colab_type": "code",
        "colab": {}
      },
      "source": [
        "def predict(a):\n",
        "    return 0 if a < 0.5 else 1\n",
        "def test_model(test_data, test_labels, W_b):\n",
        "    correct_predictions = 0\n",
        "    total_loss = 0\n",
        "    testd = np.column_stack((test_data, np.ones(shape=(test_data.shape[0], 1))))\n",
        "    for i_data in range(len(test_data)):\n",
        "        # Process the input\n",
        "        z = np.dot(testd[i_data], W_b)\n",
        "        a = sigmoid(z)\n",
        "\n",
        "        # Make a prediction\n",
        "        p = predict(a)\n",
        "        if p == test_labels[i_data]:\n",
        "            correct_predictions += 1\n",
        "        \n",
        "        # Determine loss\n",
        "        total_loss += binary_crossentropy(a, test_labels[i_data])\n",
        "    # Return a summary\n",
        "    print(total_loss)\n",
        "    return (total_loss / len(test_data), correct_predictions / len(test_data))\n",
        "def sigmoid (z):\n",
        "    return 1 / (1 + np.exp(-z))\n",
        "def binary_crossentropy(a, label):\n",
        "    return -label*np.log(a) - (1 - label)*np.log(1 - a)\n",
        "def logistic_regression(train_data, train_labels, test_data, test_labels, epochs, learing_rate):\n",
        "    # Randomize the initial weights\n",
        "    W_b = np.random.random_sample((3, ))\n",
        "    #combine data with biases\n",
        "    trd = np.column_stack((X_train, np.ones(shape=(X_train.shape[0], 1))))\n",
        "    for epoch in range(epochs):\n",
        "        # Only perform stochastic gradient descent\n",
        "        for i_data in range(len(train_data)):\n",
        "            # Process the input\n",
        "            z = np.dot(trd[i_data], W_b)\n",
        "            a = sigmoid(z)\n",
        "\n",
        "            # Determine the gradient of the loss\n",
        "            Lg_b = (a- train_labels[i_data])* trd[i_data]\n",
        "\n",
        "            # Apply the gradient to the weights\n",
        "            W_b -= Lg_b * learning_rate\n",
        "        \n",
        "        # Analyze the loss and accuracy for each epoch\n",
        "        loss, accuracy = test_model(test_data, test_labels, W_b)\n",
        "        print(f'Epoch {epoch+1}/{epochs} - val_loss: {loss} - val_accuracy: {accuracy}')\n",
        "    \n",
        "    # Return the trained weights\n",
        "    return W_b"
      ],
      "execution_count": 0,
      "outputs": []
    },
    {
      "cell_type": "markdown",
      "metadata": {
        "id": "E8UA-dUI2vFY",
        "colab_type": "text"
      },
      "source": [
        "Doing logistic regression"
      ]
    },
    {
      "cell_type": "code",
      "metadata": {
        "id": "4Y8Ae9MyY6f6",
        "colab_type": "code",
        "outputId": "adc0078e-79ec-4a8e-fdce-6a3f43439115",
        "colab": {
          "base_uri": "https://localhost:8080/",
          "height": 364
        }
      },
      "source": [
        "epochs = 10\n",
        "learning_rate = 0.01\n",
        "\n",
        "W_b = logistic_regression(X_train, labels_train, X_test, labels_test, epochs, learning_rate)"
      ],
      "execution_count": 33,
      "outputs": [
        {
          "output_type": "stream",
          "text": [
            "19.93760653745199\n",
            "Epoch 1/10 - val_loss: 0.1993760653745199 - val_accuracy: 0.98\n",
            "13.781985987730451\n",
            "Epoch 2/10 - val_loss: 0.1378198598773045 - val_accuracy: 0.98\n",
            "10.898837563721269\n",
            "Epoch 3/10 - val_loss: 0.1089883756372127 - val_accuracy: 0.98\n",
            "9.141858564560176\n",
            "Epoch 4/10 - val_loss: 0.09141858564560175 - val_accuracy: 0.99\n",
            "7.942964948295233\n",
            "Epoch 5/10 - val_loss: 0.07942964948295234 - val_accuracy: 1.0\n",
            "7.066237355772292\n",
            "Epoch 6/10 - val_loss: 0.07066237355772292 - val_accuracy: 1.0\n",
            "6.393608296954634\n",
            "Epoch 7/10 - val_loss: 0.06393608296954634 - val_accuracy: 1.0\n",
            "5.858985651786302\n",
            "Epoch 8/10 - val_loss: 0.05858985651786302 - val_accuracy: 1.0\n",
            "5.422348364744654\n",
            "Epoch 9/10 - val_loss: 0.054223483647446544 - val_accuracy: 1.0\n",
            "5.057980955102698\n",
            "Epoch 10/10 - val_loss: 0.05057980955102698 - val_accuracy: 1.0\n"
          ],
          "name": "stdout"
        }
      ]
    },
    {
      "cell_type": "code",
      "metadata": {
        "id": "geNZXp3t5it3",
        "colab_type": "code",
        "outputId": "5d630eb9-b41a-4d27-f748-c16ffcb97f3a",
        "colab": {
          "base_uri": "https://localhost:8080/",
          "height": 317
        }
      },
      "source": [
        "#same code from the displaying data from above expcept using \n",
        "for x in range(0,100):\n",
        "  if labels_test[x] == 0:\n",
        "    c = 2\n",
        "  else:\n",
        "    c = 1\n",
        "  plt.scatter(X_test[x][0],X_test[x][1], color = cdict[c])\n",
        "#set up x value \n",
        "x = np.linspace(0,1,100)\n",
        "#sanity check\n",
        "print(W_b)\n",
        "w1 = W_b[0]\n",
        "w2 = W_b[1]\n",
        "bias = W_b[2]\n",
        "pre_b = -bias/w2\n",
        "pre_w = -w1/w2\n",
        "#sanity check\n",
        "print(pre_w)\n",
        "print(pre_b)\n",
        "pre_y = pre_w*x+pre_b\n",
        "y = w*x+b\n",
        "plt.plot(x, pre_y ,'k-',label = 'separating line')\n",
        "plt.plot(x,y ,label = 'true line')\n",
        "plt.legend()\n",
        "plt.show()"
      ],
      "execution_count": 34,
      "outputs": [
        {
          "output_type": "stream",
          "text": [
            "[ 1.89519956 -2.56158996  1.26931149]\n",
            "0.7398528220083853\n",
            "0.4955170475000225\n"
          ],
          "name": "stdout"
        },
        {
          "output_type": "display_data",
          "data": {
            "image/png": "[encoded data removed]",
            "text/plain": [
              "<Figure size 432x288 with 1 Axes>"
            ]
          },
          "metadata": {
            "tags": []
          }
        }
      ]
    },
    {
      "cell_type": "code",
      "metadata": {
        "id": "-gg9HZ4W3ZN3",
        "colab_type": "code",
        "colab": {}
      },
      "source": [
        "def prediction(data):\n",
        "  #sanity check\n",
        "  print(data.shape)\n",
        "  #add bias to the data\n",
        "  np_data = np.column_stack((data, np.ones(shape=(data.shape[0], 1))))\n",
        "  z = np.dot(np_data,W_b)\n",
        "  return sigmoid(z)\n",
        "def myheatmap(data):\n",
        "  # Creates X, Y plane\n",
        "  xx = np.linspace(0, 1, 100)\n",
        "  y_min = min(data[:,1])\n",
        "  y_max = max(data[:,1])\n",
        "  yy = np.linspace(y_min, y_max, 100)\n",
        "  X1, Y1 = np.meshgrid(xx, yy)\n",
        "  # Creates Z values based on x, y grid\n",
        "  X_flat = X1.flatten()\n",
        "  Y_flat = Y1.flatten()\n",
        "  Z = np.column_stack((X_flat, Y_flat))\n",
        "  #sanity check\n",
        "  print(Z.shape)\n",
        "  Z = prediction(Z)\n",
        "  Z = Z.reshape((100,100))\n",
        "\n",
        "  # Configures the plot\n",
        "  fig = plt.figure()\n",
        "  ax = plt.axes()\n",
        "\n",
        "  # Draws the heatmap\n",
        "  contours = ax.contourf(X1, Y1, Z, 100, cmap='RdBu_r')\n",
        "  im = ax.imshow(Z, extent=[0, 1, y_min, y_max], cmap='RdBu_r', alpha=0.5, aspect='auto')\n",
        "    \n",
        "  # Gives a colorbar (should be in range [0,1])\n",
        "  plt.colorbar(im, ax=ax)"
      ],
      "execution_count": 0,
      "outputs": []
    },
    {
      "cell_type": "code",
      "metadata": {
        "id": "E5CCrrL_5RY_",
        "colab_type": "code",
        "outputId": "11c7e1e0-14d5-46c1-e153-079fddf05d4e",
        "colab": {
          "base_uri": "https://localhost:8080/",
          "height": 300
        }
      },
      "source": [
        "#display heatmap\n",
        "myheatmap(X_test)"
      ],
      "execution_count": 0,
      "outputs": [
        {
          "output_type": "stream",
          "text": [
            "(10000, 2)\n",
            "(10000, 2)\n"
          ],
          "name": "stdout"
        },
        {
          "output_type": "display_data",
          "data": {
            "image/png": "[encoded data removed]",
            "text/plain": [
              "<Figure size 432x288 with 2 Axes>"
            ]
          },
          "metadata": {
            "tags": []
          }
        }
      ]
    }
  ]
}